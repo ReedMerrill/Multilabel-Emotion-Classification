{
 "cells": [
  {
   "cell_type": "markdown",
   "metadata": {},
   "source": [
    "# Exploring the Labels\n",
    "\n",
    "I did no do the train/dev split, so in addition to doing regular EDA, this notebook verifies that these data have similar characteristics."
   ]
  },
  {
   "cell_type": "code",
   "execution_count": 1,
   "metadata": {},
   "outputs": [
    {
     "data": {
      "text/html": [
       "<div>\n",
       "<style scoped>\n",
       "    .dataframe tbody tr th:only-of-type {\n",
       "        vertical-align: middle;\n",
       "    }\n",
       "\n",
       "    .dataframe tbody tr th {\n",
       "        vertical-align: top;\n",
       "    }\n",
       "\n",
       "    .dataframe thead th {\n",
       "        text-align: right;\n",
       "    }\n",
       "</style>\n",
       "<table border=\"1\" class=\"dataframe\">\n",
       "  <thead>\n",
       "    <tr style=\"text-align: right;\">\n",
       "      <th></th>\n",
       "      <th>text</th>\n",
       "      <th>admiration</th>\n",
       "      <th>amusement</th>\n",
       "      <th>gratitude</th>\n",
       "      <th>love</th>\n",
       "      <th>pride</th>\n",
       "      <th>relief</th>\n",
       "      <th>remorse</th>\n",
       "    </tr>\n",
       "  </thead>\n",
       "  <tbody>\n",
       "    <tr>\n",
       "      <th>0</th>\n",
       "      <td>My favourite food is anything I didn't have to...</td>\n",
       "      <td>0</td>\n",
       "      <td>0</td>\n",
       "      <td>0</td>\n",
       "      <td>0</td>\n",
       "      <td>0</td>\n",
       "      <td>0</td>\n",
       "      <td>0</td>\n",
       "    </tr>\n",
       "    <tr>\n",
       "      <th>1</th>\n",
       "      <td>Now if he does off himself, everyone will thin...</td>\n",
       "      <td>0</td>\n",
       "      <td>0</td>\n",
       "      <td>0</td>\n",
       "      <td>0</td>\n",
       "      <td>0</td>\n",
       "      <td>0</td>\n",
       "      <td>0</td>\n",
       "    </tr>\n",
       "    <tr>\n",
       "      <th>2</th>\n",
       "      <td>Yes I heard abt the f bombs! That has to be wh...</td>\n",
       "      <td>0</td>\n",
       "      <td>0</td>\n",
       "      <td>1</td>\n",
       "      <td>0</td>\n",
       "      <td>0</td>\n",
       "      <td>0</td>\n",
       "      <td>0</td>\n",
       "    </tr>\n",
       "    <tr>\n",
       "      <th>3</th>\n",
       "      <td>Damn youtube and outrage drama is super lucrat...</td>\n",
       "      <td>1</td>\n",
       "      <td>0</td>\n",
       "      <td>0</td>\n",
       "      <td>0</td>\n",
       "      <td>0</td>\n",
       "      <td>0</td>\n",
       "      <td>0</td>\n",
       "    </tr>\n",
       "    <tr>\n",
       "      <th>4</th>\n",
       "      <td>It might be linked to the trust factor of your...</td>\n",
       "      <td>0</td>\n",
       "      <td>0</td>\n",
       "      <td>0</td>\n",
       "      <td>0</td>\n",
       "      <td>0</td>\n",
       "      <td>0</td>\n",
       "      <td>0</td>\n",
       "    </tr>\n",
       "  </tbody>\n",
       "</table>\n",
       "</div>"
      ],
      "text/plain": [
       "                                                text  admiration  amusement  \\\n",
       "0  My favourite food is anything I didn't have to...           0          0   \n",
       "1  Now if he does off himself, everyone will thin...           0          0   \n",
       "2  Yes I heard abt the f bombs! That has to be wh...           0          0   \n",
       "3  Damn youtube and outrage drama is super lucrat...           1          0   \n",
       "4  It might be linked to the trust factor of your...           0          0   \n",
       "\n",
       "   gratitude  love  pride  relief  remorse  \n",
       "0          0     0      0       0        0  \n",
       "1          0     0      0       0        0  \n",
       "2          1     0      0       0        0  \n",
       "3          0     0      0       0        0  \n",
       "4          0     0      0       0        0  "
      ]
     },
     "execution_count": 1,
     "metadata": {},
     "output_type": "execute_result"
    }
   ],
   "source": [
    "import string\n",
    "from collections import Counter\n",
    "import matplotlib.pyplot as plt\n",
    "import pandas as pd\n",
    "import numpy as np\n",
    "\n",
    "TRAIN_PATH = \"data/train.csv\"\n",
    "DEV_PATH = \"data/dev.csv\"\n",
    "\n",
    "train = pd.read_csv(TRAIN_PATH, header=0)\n",
    "train.head()"
   ]
  },
  {
   "cell_type": "code",
   "execution_count": 2,
   "metadata": {},
   "outputs": [
    {
     "data": {
      "text/html": [
       "<div>\n",
       "<style scoped>\n",
       "    .dataframe tbody tr th:only-of-type {\n",
       "        vertical-align: middle;\n",
       "    }\n",
       "\n",
       "    .dataframe tbody tr th {\n",
       "        vertical-align: top;\n",
       "    }\n",
       "\n",
       "    .dataframe thead th {\n",
       "        text-align: right;\n",
       "    }\n",
       "</style>\n",
       "<table border=\"1\" class=\"dataframe\">\n",
       "  <thead>\n",
       "    <tr style=\"text-align: right;\">\n",
       "      <th></th>\n",
       "      <th>text</th>\n",
       "      <th>admiration</th>\n",
       "      <th>amusement</th>\n",
       "      <th>gratitude</th>\n",
       "      <th>love</th>\n",
       "      <th>pride</th>\n",
       "      <th>relief</th>\n",
       "      <th>remorse</th>\n",
       "    </tr>\n",
       "  </thead>\n",
       "  <tbody>\n",
       "    <tr>\n",
       "      <th>0</th>\n",
       "      <td>Is this in New Orleans?? I really feel like th...</td>\n",
       "      <td>0</td>\n",
       "      <td>0</td>\n",
       "      <td>0</td>\n",
       "      <td>0</td>\n",
       "      <td>0</td>\n",
       "      <td>0</td>\n",
       "      <td>0</td>\n",
       "    </tr>\n",
       "    <tr>\n",
       "      <th>1</th>\n",
       "      <td>You know the answer man, you are programmed to...</td>\n",
       "      <td>0</td>\n",
       "      <td>0</td>\n",
       "      <td>0</td>\n",
       "      <td>0</td>\n",
       "      <td>0</td>\n",
       "      <td>0</td>\n",
       "      <td>0</td>\n",
       "    </tr>\n",
       "    <tr>\n",
       "      <th>2</th>\n",
       "      <td>The economy is heavily controlled and subsidiz...</td>\n",
       "      <td>0</td>\n",
       "      <td>0</td>\n",
       "      <td>0</td>\n",
       "      <td>0</td>\n",
       "      <td>0</td>\n",
       "      <td>0</td>\n",
       "      <td>0</td>\n",
       "    </tr>\n",
       "    <tr>\n",
       "      <th>3</th>\n",
       "      <td>Thank you for your vote of confidence, but we ...</td>\n",
       "      <td>0</td>\n",
       "      <td>0</td>\n",
       "      <td>1</td>\n",
       "      <td>0</td>\n",
       "      <td>0</td>\n",
       "      <td>0</td>\n",
       "      <td>0</td>\n",
       "    </tr>\n",
       "    <tr>\n",
       "      <th>4</th>\n",
       "      <td>There it is!</td>\n",
       "      <td>0</td>\n",
       "      <td>0</td>\n",
       "      <td>0</td>\n",
       "      <td>0</td>\n",
       "      <td>0</td>\n",
       "      <td>0</td>\n",
       "      <td>0</td>\n",
       "    </tr>\n",
       "  </tbody>\n",
       "</table>\n",
       "</div>"
      ],
      "text/plain": [
       "                                                text  admiration  amusement  \\\n",
       "0  Is this in New Orleans?? I really feel like th...           0          0   \n",
       "1  You know the answer man, you are programmed to...           0          0   \n",
       "2  The economy is heavily controlled and subsidiz...           0          0   \n",
       "3  Thank you for your vote of confidence, but we ...           0          0   \n",
       "4                                       There it is!           0          0   \n",
       "\n",
       "   gratitude  love  pride  relief  remorse  \n",
       "0          0     0      0       0        0  \n",
       "1          0     0      0       0        0  \n",
       "2          0     0      0       0        0  \n",
       "3          1     0      0       0        0  \n",
       "4          0     0      0       0        0  "
      ]
     },
     "execution_count": 2,
     "metadata": {},
     "output_type": "execute_result"
    }
   ],
   "source": [
    "dev = pd.read_csv(DEV_PATH, header=0)\n",
    "dev.head()"
   ]
  },
  {
   "cell_type": "code",
   "execution_count": 3,
   "metadata": {},
   "outputs": [
    {
     "name": "stdout",
     "output_type": "stream",
     "text": [
      "Train Labels Summary:\n",
      "count                     25196\n",
      "unique                       31\n",
      "top       [0, 0, 0, 0, 0, 0, 0]\n",
      "freq                      14001\n",
      "dtype: object\n",
      "Dev Labels Summary:\n",
      "count                      3149\n",
      "unique                       20\n",
      "top       [0, 0, 0, 0, 0, 0, 0]\n",
      "freq                       1741\n",
      "dtype: object\n"
     ]
    }
   ],
   "source": [
    "# process labels\n",
    "def process_labels(data):\n",
    "    labels_raw = data.iloc[:, 1:]\n",
    "    labels_list = labels_raw.apply(lambda row: row.tolist(), axis=1)\n",
    "    return {\"list\": labels_list, \"raw\": labels_raw}\n",
    "train_labels = process_labels(train)\n",
    "dev_labels = process_labels(dev)\n",
    "print(\"Train Labels Summary:\")\n",
    "print(train_labels[\"list\"].describe())\n",
    "print(\"Dev Labels Summary:\")\n",
    "print(dev_labels[\"list\"].describe())"
   ]
  },
  {
   "cell_type": "markdown",
   "metadata": {},
   "source": [
    "- In both training and dev, the most frequent category is no label for all classes.\n",
    "- There are 31 unique combinations in the training data, and only 20 in the dev.\n",
    "\n",
    "## How many instances have more than one label?"
   ]
  },
  {
   "cell_type": "code",
   "execution_count": 4,
   "metadata": {},
   "outputs": [
    {
     "name": "stdout",
     "output_type": "stream",
     "text": [
      "Training Data: 0.03\n",
      "Dev Data: 0.03\n"
     ]
    }
   ],
   "source": [
    "def n_labels(labels_lists):\n",
    "    summed_labels = [sum(lst) for lst in labels_lists]\n",
    "    multiple_labels = [x for x in summed_labels if x > 1]\n",
    "    n_multiple_labels = round(len(multiple_labels)/len(labels_lists), 2)\n",
    "    return n_multiple_labels\n",
    "train_n_multiple_labels = n_labels(train_labels[\"list\"])\n",
    "dev_n_multiple_labels = n_labels(dev_labels[\"list\"])\n",
    "print(f\"Training Data: {train_n_multiple_labels}\\nDev Data: {dev_n_multiple_labels}\")"
   ]
  },
  {
   "cell_type": "markdown",
   "metadata": {},
   "source": [
    "## Is there class imbalance?"
   ]
  },
  {
   "cell_type": "code",
   "execution_count": 5,
   "metadata": {},
   "outputs": [
    {
     "name": "stdout",
     "output_type": "stream",
     "text": [
      "Train:\n",
      "admiration    0.343737\n",
      "gratitude     0.221556\n",
      "amusement     0.193758\n",
      "love          0.173616\n",
      "remorse       0.045360\n",
      "relief        0.012734\n",
      "pride         0.009238\n",
      "dtype: float64\n",
      "Dev:\n",
      "admiration    0.324900\n",
      "gratitude     0.238349\n",
      "amusement     0.201731\n",
      "love          0.167776\n",
      "remorse       0.045273\n",
      "relief        0.011984\n",
      "pride         0.009987\n",
      "dtype: float64\n"
     ]
    }
   ],
   "source": [
    "def class_sums(data):\n",
    "    summed_labels = data.apply(sum, axis=0)\n",
    "    total_n = summed_labels.sum()\n",
    "    proportions = summed_labels / total_n\n",
    "    sorted_proportions = proportions.sort_values(ascending=False)\n",
    "    return sorted_proportions\n",
    "train_class_sums = class_sums(train_labels[\"raw\"])\n",
    "dev_class_sums = class_sums(dev_labels[\"raw\"])\n",
    "print(\"Train:\")\n",
    "print(train_class_sums)\n",
    "print(\"Dev:\")\n",
    "print(dev_class_sums)"
   ]
  },
  {
   "cell_type": "markdown",
   "metadata": {},
   "source": [
    "There is significant class imbalance in both the training and the dev data. It is uniform across both datasets.\n",
    "\n",
    "# how long are the text strings?"
   ]
  },
  {
   "cell_type": "code",
   "execution_count": 6,
   "metadata": {},
   "outputs": [
    {
     "name": "stdout",
     "output_type": "stream",
     "text": [
      "Punctuation stripped sentence length range: (0, 33)\n",
      "unprocessed sentence length range: (1, 33)\n"
     ]
    }
   ],
   "source": [
    "# combine the dataframes\n",
    "data = pd.concat([train, dev])\n",
    "text = data['text'].tolist()\n",
    "def text_clean(text):\n",
    "    text = text.translate(str.maketrans('', '', string.punctuation))\n",
    "    return text.lower()\n",
    "\n",
    "clean = [text_clean(sentence) for sentence in text]\n",
    "\n",
    "# make string tokens\n",
    "def count_tokens(text):\n",
    "    split = text.split()\n",
    "    n_words = len(split)\n",
    "    return n_words\n",
    "\n",
    "n_words_clean = [count_tokens(sentence) for sentence in clean]\n",
    "n_words_dirty = [count_tokens(sentence) for sentence in text]\n",
    "\n",
    "n_words_clean_np = np.asarray(n_words_clean)\n",
    "n_words_dirty_np = np.asarray(n_words_dirty)\n",
    "\n",
    "print(f\"Punctuation stripped sentence length range: ({min(n_words_clean_np)}, {max(n_words_clean_np)})\")\n",
    "print(f\"unprocessed sentence length range: ({min(n_words_dirty_np)}, {max(n_words_dirty_np)})\")"
   ]
  },
  {
   "cell_type": "markdown",
   "metadata": {},
   "source": [
    "After removing the punctuation there is at least one text string of length zero."
   ]
  },
  {
   "cell_type": "markdown",
   "metadata": {},
   "source": [
    "# What is the distribution of word frequencies?"
   ]
  },
  {
   "cell_type": "code",
   "execution_count": 22,
   "metadata": {},
   "outputs": [
    {
     "name": "stdout",
     "output_type": "stream",
     "text": [
      "13032\n"
     ]
    }
   ],
   "source": [
    "def concat_texts(data):\n",
    "    \"\"\"takes a list of pandas datasets and combines all of their text columns into a single string\"\"\"\n",
    "    cat_string = \"\"\n",
    "    cat_string += \" \".join(data)\n",
    "    return cat_string\n",
    "\n",
    "text_string = text_clean(concat_texts(text))\n",
    "\n",
    "words = text_string.split()\n",
    "word_freq = dict(Counter(words))\n",
    "\n",
    "# sort the dict by word frequency\n",
    "word_freq = dict(sorted(word_freq.items(), key=lambda item: item[1]))\n",
    "\n",
    "count = 0\n",
    "for freq in word_freq.values():\n",
    "    if freq == 1:\n",
    "        count += 1\n",
    "    else:\n",
    "        break\n",
    "\n",
    "print(count)"
   ]
  },
  {
   "cell_type": "markdown",
   "metadata": {},
   "source": [
    "Nearly half of the unique words in the corpus occur only once. Embeddings should help with associating similar words among all the infrequent ones."
   ]
  }
 ],
 "metadata": {
  "kernelspec": {
   "display_name": "Python 3 (ipykernel)",
   "language": "python",
   "name": "python3"
  },
  "language_info": {
   "codemirror_mode": {
    "name": "ipython",
    "version": 3
   },
   "file_extension": ".py",
   "mimetype": "text/x-python",
   "name": "python",
   "nbconvert_exporter": "python",
   "pygments_lexer": "ipython3",
   "version": "3.10.13"
  }
 },
 "nbformat": 4,
 "nbformat_minor": 5
}
