{
 "cells": [
  {
   "cell_type": "code",
   "execution_count": 1,
   "metadata": {},
   "outputs": [
    {
     "name": "stderr",
     "output_type": "stream",
     "text": [
      "2023-12-04 21:58:51.488938: I tensorflow/core/util/port.cc:111] oneDNN custom operations are on. You may see slightly different numerical results due to floating-point round-off errors from different computation orders. To turn them off, set the environment variable `TF_ENABLE_ONEDNN_OPTS=0`.\n",
      "2023-12-04 21:58:51.519677: I tensorflow/tsl/cuda/cudart_stub.cc:28] Could not find cuda drivers on your machine, GPU will not be used.\n",
      "2023-12-04 21:58:51.709010: E tensorflow/compiler/xla/stream_executor/cuda/cuda_dnn.cc:9342] Unable to register cuDNN factory: Attempting to register factory for plugin cuDNN when one has already been registered\n",
      "2023-12-04 21:58:51.709050: E tensorflow/compiler/xla/stream_executor/cuda/cuda_fft.cc:609] Unable to register cuFFT factory: Attempting to register factory for plugin cuFFT when one has already been registered\n",
      "2023-12-04 21:58:51.710195: E tensorflow/compiler/xla/stream_executor/cuda/cuda_blas.cc:1518] Unable to register cuBLAS factory: Attempting to register factory for plugin cuBLAS when one has already been registered\n",
      "2023-12-04 21:58:51.821030: I tensorflow/tsl/cuda/cudart_stub.cc:28] Could not find cuda drivers on your machine, GPU will not be used.\n",
      "2023-12-04 21:58:51.822076: I tensorflow/core/platform/cpu_feature_guard.cc:182] This TensorFlow binary is optimized to use available CPU instructions in performance-critical operations.\n",
      "To enable the following instructions: AVX2 AVX512F AVX512_VNNI FMA, in other operations, rebuild TensorFlow with the appropriate compiler flags.\n",
      "2023-12-04 21:58:52.900007: W tensorflow/compiler/tf2tensorrt/utils/py_utils.cc:38] TF-TRT Warning: Could not find TensorRT\n"
     ]
    }
   ],
   "source": [
    "import time\n",
    "import datasets\n",
    "import pandas as pd\n",
    "import transformers\n",
    "import tensorflow as tf\n",
    "from keras import layers\n",
    "from tensorflow.keras.callbacks import TensorBoard, ModelCheckpoint, EarlyStopping\n",
    "import numpy\n",
    "\n",
    "train_path=\"data/train.csv\"\n",
    "dev_path=\"data/dev.csv\""
   ]
  },
  {
   "cell_type": "markdown",
   "metadata": {},
   "source": [
    "### Pre-processing"
   ]
  },
  {
   "cell_type": "code",
   "execution_count": 2,
   "metadata": {},
   "outputs": [
    {
     "name": "stderr",
     "output_type": "stream",
     "text": [
      "Found cached dataset csv (/home/reed/.cache/huggingface/datasets/csv/default-0989c6c4d599a70a/0.0.0/6954658bab30a358235fa864b05cf819af0e179325c740e4bc853bcc7ec513e1)\n"
     ]
    },
    {
     "data": {
      "application/vnd.jupyter.widget-view+json": {
       "model_id": "4847ea00f5c946d7a336eefb3afc1cb1",
       "version_major": 2,
       "version_minor": 0
      },
      "text/plain": [
       "  0%|          | 0/2 [00:00<?, ?it/s]"
      ]
     },
     "metadata": {},
     "output_type": "display_data"
    },
    {
     "data": {
      "application/vnd.jupyter.widget-view+json": {
       "model_id": "173af8a4ae1a441abb5f661d94dca3bc",
       "version_major": 2,
       "version_minor": 0
      },
      "text/plain": [
       "Map:   0%|          | 0/25196 [00:00<?, ? examples/s]"
      ]
     },
     "metadata": {},
     "output_type": "display_data"
    },
    {
     "data": {
      "application/vnd.jupyter.widget-view+json": {
       "model_id": "bf85383eb431408986c520c3a7881059",
       "version_major": 2,
       "version_minor": 0
      },
      "text/plain": [
       "Map:   0%|          | 0/3149 [00:00<?, ? examples/s]"
      ]
     },
     "metadata": {},
     "output_type": "display_data"
    },
    {
     "data": {
      "application/vnd.jupyter.widget-view+json": {
       "model_id": "2cb6198d86ab4e0885f1a24511d022c5",
       "version_major": 2,
       "version_minor": 0
      },
      "text/plain": [
       "Map:   0%|          | 0/25196 [00:00<?, ? examples/s]"
      ]
     },
     "metadata": {},
     "output_type": "display_data"
    },
    {
     "data": {
      "application/vnd.jupyter.widget-view+json": {
       "model_id": "90feb0d241f147f4a39e7af43732313d",
       "version_major": 2,
       "version_minor": 0
      },
      "text/plain": [
       "Map:   0%|          | 0/3149 [00:00<?, ? examples/s]"
      ]
     },
     "metadata": {},
     "output_type": "display_data"
    }
   ],
   "source": [
    "# use the tokenizer from DistilRoBERTa\n",
    "tokenizer = transformers.AutoTokenizer.from_pretrained(\"distilroberta-base\", pad_token_id=0)\n",
    "\n",
    "def tokenize(examples):\n",
    "    \"\"\"Converts the text of each example to \"input_ids\", a sequence of integers\n",
    "    representing 1-hot vectors for each token in the text\"\"\"\n",
    "    return tokenizer(examples[\"text\"], truncation=True, max_length=64,\n",
    "                     padding=\"max_length\")\n",
    "\n",
    "# load the CSVs into Huggingface datasets to allow use of the tokenizer\n",
    "hf_dataset = datasets.load_dataset(\"csv\", data_files={\n",
    "    \"train\": train_path, \"validation\": dev_path})\n",
    "\n",
    "# the labels are the names of all columns except the first\n",
    "labels = hf_dataset[\"train\"].column_names[1:]\n",
    "\n",
    "def gather_labels(example):\n",
    "    \"\"\"Converts the label columns into a list of 0s and 1s\"\"\"\n",
    "    # the float here is because converting hf to tf data requires a list or array of labels\n",
    "    return {\"labels\": [float(example[l]) for l in labels]}\n",
    "\n",
    "# convert text and labels to format expected by model\n",
    "hf_dataset = hf_dataset.map(gather_labels)\n",
    "hf_dataset = hf_dataset.map(tokenize, batched=True)"
   ]
  },
  {
   "cell_type": "markdown",
   "metadata": {},
   "source": [
    "### Convert to TF format"
   ]
  },
  {
   "cell_type": "code",
   "execution_count": 3,
   "metadata": {},
   "outputs": [],
   "source": [
    "# split train and val into their own objects\n",
    "hf_train = hf_dataset['train']\n",
    "hf_dev = hf_dataset['validation']\n",
    "\n",
    "# rename column for embeddings layer\n",
    "hf_train = hf_train.rename_column(\"input_ids\", \"embedding_inputs\")\n",
    "hf_dev = hf_dev.rename_column(\"input_ids\", \"embedding_inputs\")\n",
    "\n",
    "# convert Huggingface datasets to Tensorflow datasets\n",
    "train_dataset = hf_train.to_tf_dataset(\n",
    "    columns=\"embedding_inputs\",\n",
    "    label_cols=\"labels\",\n",
    "    batch_size=32,\n",
    "    shuffle=True)\n",
    "dev_dataset = hf_dev.to_tf_dataset(\n",
    "    columns=\"embedding_inputs\",\n",
    "    label_cols=\"labels\",\n",
    "    batch_size=32)"
   ]
  },
  {
   "cell_type": "markdown",
   "metadata": {},
   "source": [
    "### Model"
   ]
  },
  {
   "cell_type": "code",
   "execution_count": 45,
   "metadata": {},
   "outputs": [],
   "source": [
    "def train_model(embed_out, gru_units, dropout_rate, epochs, checkpoint, desc):\n",
    "\n",
    "    model_name = f\"{desc}_e_{embed_out}_g_{gru_units}\"\n",
    "\n",
    "    # define a model with a single fully connected layer\n",
    "    model = tf.keras.Sequential()\n",
    "    model.add(layers.Embedding(\n",
    "        input_dim=tokenizer.vocab_size,\n",
    "        output_dim=embed_out,\n",
    "        mask_zero=True))\n",
    "    model.add(layers.Bidirectional(layers.GRU(gru_units, return_sequences=True)))\n",
    "    model.add(layers.MaxPooling1D(pool_size=7))\n",
    "    model.add(layers.Bidirectional(layers.GRU(32, return_sequences=True)))\n",
    "    model.add(layers.GlobalMaxPool1D())\n",
    "   #model.add(layers.Dense(64))\n",
    "   #model.add(layers.Dropout(dropout_rate))\n",
    "   #model.add(layers.Dense(32))\n",
    "   #model.add(layers.Dropout(dropout_rate))\n",
    "    model.add(layers.Dense(\n",
    "        units=len(labels),\n",
    "        activation='sigmoid'))\n",
    "\n",
    "    print(model.summary())\n",
    "    # specify compilation hyperparameters\n",
    "    model.compile(\n",
    "        optimizer=tf.keras.optimizers.Adam(0.001),\n",
    "        loss=tf.keras.losses.binary_crossentropy,\n",
    "        metrics=[tf.keras.metrics.F1Score(average=\"micro\", threshold=0.5)])\n",
    "\n",
    "    # set time for run time and model naming\n",
    "    print(\"================================================================================\")\n",
    "    print(f\"MODEL SPEC.: {model_name}\")\n",
    "    start_time = time.time()\n",
    "\n",
    "    # set callbacks\n",
    "    callbacks = [\n",
    "        ModelCheckpoint(\n",
    "            filepath=f\"checkpoints/{model_name}\",\n",
    "            monitor=\"val_f1_score\",\n",
    "            mode=\"max\",\n",
    "            save_best_only=True),\n",
    "        TensorBoard(\n",
    "            log_dir=f\"logs/{model_name}\"),\n",
    "        EarlyStopping(\n",
    "            monitor=\"val_f1_score\",\n",
    "            min_delta=0.001,\n",
    "            patience=3,\n",
    "            start_from_epoch=10)]\n",
    "    \n",
    "       # fit the model to the training data, monitoring F1 on the dev data\n",
    "    model.fit(\n",
    "        train_dataset,\n",
    "        epochs=epochs,\n",
    "        validation_data=dev_dataset,\n",
    "        callbacks=callbacks)\n",
    "\n",
    "    time_elapsed = (time.time() - start_time) / 60\n",
    "    print(f\"Time Elapsed: {time_elapsed} min.\")"
   ]
  },
  {
   "cell_type": "markdown",
   "metadata": {},
   "source": [
    "### Train"
   ]
  },
  {
   "cell_type": "code",
   "execution_count": 46,
   "metadata": {},
   "outputs": [
    {
     "name": "stdout",
     "output_type": "stream",
     "text": [
      "Model: \"sequential_14\"\n",
      "_________________________________________________________________\n",
      " Layer (type)                Output Shape              Param #   \n",
      "=================================================================\n",
      " embedding_14 (Embedding)    (None, None, 128)         6433920   \n",
      "                                                                 \n",
      " bidirectional_21 (Bidirect  (None, None, 256)         198144    \n",
      " ional)                                                          \n",
      "                                                                 \n",
      " max_pooling1d_8 (MaxPoolin  (None, None, 256)         0         \n",
      " g1D)                                                            \n",
      "                                                                 \n",
      " bidirectional_22 (Bidirect  (None, None, 64)          55680     \n",
      " ional)                                                          \n",
      "                                                                 \n",
      " global_max_pooling1d_9 (Gl  (None, 64)                0         \n",
      " obalMaxPooling1D)                                               \n",
      "                                                                 \n",
      " dense_20 (Dense)            (None, 7)                 455       \n",
      "                                                                 \n",
      "=================================================================\n",
      "Total params: 6688199 (25.51 MB)\n",
      "Trainable params: 6688199 (25.51 MB)\n",
      "Non-trainable params: 0 (0.00 Byte)\n",
      "_________________________________________________________________\n",
      "None\n",
      "================================================================================\n",
      "MODEL SPEC.: new-arch_2_e_128_g_128\n",
      "Epoch 1/20\n",
      "788/788 [==============================] - ETA: 0s - loss: 0.1686 - f1_score: 0.3892INFO:tensorflow:Assets written to: checkpoints/new-arch_2_e_128_g_128/assets\n"
     ]
    },
    {
     "name": "stderr",
     "output_type": "stream",
     "text": [
      "INFO:tensorflow:Assets written to: checkpoints/new-arch_2_e_128_g_128/assets\n"
     ]
    },
    {
     "name": "stdout",
     "output_type": "stream",
     "text": [
      "788/788 [==============================] - 133s 157ms/step - loss: 0.1686 - f1_score: 0.3892 - val_loss: 0.1130 - val_f1_score: 0.7092\n",
      "Epoch 2/20\n",
      "788/788 [==============================] - ETA: 0s - loss: 0.1001 - f1_score: 0.7587INFO:tensorflow:Assets written to: checkpoints/new-arch_2_e_128_g_128/assets\n"
     ]
    },
    {
     "name": "stderr",
     "output_type": "stream",
     "text": [
      "INFO:tensorflow:Assets written to: checkpoints/new-arch_2_e_128_g_128/assets\n"
     ]
    },
    {
     "name": "stdout",
     "output_type": "stream",
     "text": [
      "788/788 [==============================] - 120s 152ms/step - loss: 0.1001 - f1_score: 0.7587 - val_loss: 0.0888 - val_f1_score: 0.7843\n",
      "Epoch 3/20\n",
      "788/788 [==============================] - ETA: 0s - loss: 0.0787 - f1_score: 0.8119INFO:tensorflow:Assets written to: checkpoints/new-arch_2_e_128_g_128/assets\n"
     ]
    },
    {
     "name": "stderr",
     "output_type": "stream",
     "text": [
      "INFO:tensorflow:Assets written to: checkpoints/new-arch_2_e_128_g_128/assets\n"
     ]
    },
    {
     "name": "stdout",
     "output_type": "stream",
     "text": [
      "788/788 [==============================] - 135s 171ms/step - loss: 0.0787 - f1_score: 0.8119 - val_loss: 0.0847 - val_f1_score: 0.7844\n",
      "Epoch 4/20\n",
      "788/788 [==============================] - ETA: 0s - loss: 0.0652 - f1_score: 0.8506INFO:tensorflow:Assets written to: checkpoints/new-arch_2_e_128_g_128/assets\n"
     ]
    },
    {
     "name": "stderr",
     "output_type": "stream",
     "text": [
      "INFO:tensorflow:Assets written to: checkpoints/new-arch_2_e_128_g_128/assets\n"
     ]
    },
    {
     "name": "stdout",
     "output_type": "stream",
     "text": [
      "788/788 [==============================] - 146s 185ms/step - loss: 0.0652 - f1_score: 0.8506 - val_loss: 0.0867 - val_f1_score: 0.7910\n",
      "Epoch 5/20\n",
      "788/788 [==============================] - ETA: 0s - loss: 0.0542 - f1_score: 0.8759INFO:tensorflow:Assets written to: checkpoints/new-arch_2_e_128_g_128/assets\n"
     ]
    },
    {
     "name": "stderr",
     "output_type": "stream",
     "text": [
      "INFO:tensorflow:Assets written to: checkpoints/new-arch_2_e_128_g_128/assets\n"
     ]
    },
    {
     "name": "stdout",
     "output_type": "stream",
     "text": [
      "788/788 [==============================] - 146s 186ms/step - loss: 0.0542 - f1_score: 0.8759 - val_loss: 0.0882 - val_f1_score: 0.7936\n"
     ]
    }
   ],
   "source": [
    "train_model(\n",
    "    embed_out=128,\n",
    "    gru_units=128,\n",
    "    dropout_rate=.7,\n",
    "    epochs=20,\n",
    "    checkpoint=True,\n",
    "    desc='new-arch_2'\n",
    ")"
   ]
  },
  {
   "cell_type": "markdown",
   "metadata": {},
   "source": [
    "### Predict"
   ]
  },
  {
   "cell_type": "code",
   "execution_count": null,
   "metadata": {},
   "outputs": [],
   "source": [
    "# load the saved model\n",
    "model_dir = \"e_128_g_256_r_32\"\n",
    "model_path = f\"checkpoints/{model_dir}\"\n",
    "model = tf.keras.models.load_model(model_path)\n",
    "df = pd.read_csv(dev_path)\n",
    "\n",
    "# generate predictions from model (on the tf version of validation data)\n",
    "predictions = numpy.where(model.predict(dev_dataset) > 0.5, 1, 0)\n",
    "\n",
    "# assign predictions to label columns in Pandas data frame\n",
    "df.iloc[:, 1:] = predictions\n",
    "print(df.head())\n",
    "\n",
    "# write the Pandas dataframe to a zipped CSV file\n",
    "df.to_csv(\"submission.zip\", index=False, compression=dict(\n",
    "    method='zip', archive_name=f'submission.csv'))\n",
    "\n"
   ]
  }
 ],
 "metadata": {
  "kernelspec": {
   "display_name": "nnets",
   "language": "python",
   "name": "python3"
  },
  "language_info": {
   "codemirror_mode": {
    "name": "ipython",
    "version": 3
   },
   "file_extension": ".py",
   "mimetype": "text/x-python",
   "name": "python",
   "nbconvert_exporter": "python",
   "pygments_lexer": "ipython3",
   "version": "3.10.13"
  }
 },
 "nbformat": 4,
 "nbformat_minor": 2
}
