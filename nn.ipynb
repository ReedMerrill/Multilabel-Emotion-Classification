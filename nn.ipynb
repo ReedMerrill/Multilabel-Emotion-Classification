{
 "cells": [
  {
   "cell_type": "code",
   "execution_count": 2,
   "metadata": {},
   "outputs": [
    {
     "name": "stderr",
     "output_type": "stream",
     "text": [
      "2023-12-04 17:33:59.365918: I tensorflow/core/util/port.cc:111] oneDNN custom operations are on. You may see slightly different numerical results due to floating-point round-off errors from different computation orders. To turn them off, set the environment variable `TF_ENABLE_ONEDNN_OPTS=0`.\n",
      "2023-12-04 17:33:59.410895: I tensorflow/tsl/cuda/cudart_stub.cc:28] Could not find cuda drivers on your machine, GPU will not be used.\n",
      "2023-12-04 17:33:59.626141: E tensorflow/compiler/xla/stream_executor/cuda/cuda_dnn.cc:9342] Unable to register cuDNN factory: Attempting to register factory for plugin cuDNN when one has already been registered\n",
      "2023-12-04 17:33:59.626176: E tensorflow/compiler/xla/stream_executor/cuda/cuda_fft.cc:609] Unable to register cuFFT factory: Attempting to register factory for plugin cuFFT when one has already been registered\n",
      "2023-12-04 17:33:59.627333: E tensorflow/compiler/xla/stream_executor/cuda/cuda_blas.cc:1518] Unable to register cuBLAS factory: Attempting to register factory for plugin cuBLAS when one has already been registered\n",
      "2023-12-04 17:33:59.736633: I tensorflow/tsl/cuda/cudart_stub.cc:28] Could not find cuda drivers on your machine, GPU will not be used.\n",
      "2023-12-04 17:33:59.737950: I tensorflow/core/platform/cpu_feature_guard.cc:182] This TensorFlow binary is optimized to use available CPU instructions in performance-critical operations.\n",
      "To enable the following instructions: AVX2 AVX512F AVX512_VNNI FMA, in other operations, rebuild TensorFlow with the appropriate compiler flags.\n",
      "2023-12-04 17:34:00.708148: W tensorflow/compiler/tf2tensorrt/utils/py_utils.cc:38] TF-TRT Warning: Could not find TensorRT\n"
     ]
    }
   ],
   "source": [
    "import time\n",
    "import datasets\n",
    "import pandas as pd\n",
    "import transformers\n",
    "import tensorflow as tf\n",
    "from keras import layers\n",
    "from tensorflow.keras.callbacks import TensorBoard, ModelCheckpoint, EarlyStopping\n",
    "import numpy\n",
    "\n",
    "train_path=\"data/train.csv\"\n",
    "dev_path=\"data/dev.csv\""
   ]
  },
  {
   "cell_type": "markdown",
   "metadata": {},
   "source": [
    "### Pre-processing"
   ]
  },
  {
   "cell_type": "code",
   "execution_count": 3,
   "metadata": {},
   "outputs": [
    {
     "name": "stderr",
     "output_type": "stream",
     "text": [
      "Found cached dataset csv (/home/reed/.cache/huggingface/datasets/csv/default-0989c6c4d599a70a/0.0.0/6954658bab30a358235fa864b05cf819af0e179325c740e4bc853bcc7ec513e1)\n"
     ]
    },
    {
     "data": {
      "application/vnd.jupyter.widget-view+json": {
       "model_id": "6297269a6b5a43c5a59e33ca25ca7f97",
       "version_major": 2,
       "version_minor": 0
      },
      "text/plain": [
       "  0%|          | 0/2 [00:00<?, ?it/s]"
      ]
     },
     "metadata": {},
     "output_type": "display_data"
    },
    {
     "data": {
      "application/vnd.jupyter.widget-view+json": {
       "model_id": "50b26b823eb9429c95ecba4f0a4adf9d",
       "version_major": 2,
       "version_minor": 0
      },
      "text/plain": [
       "Map:   0%|          | 0/25196 [00:00<?, ? examples/s]"
      ]
     },
     "metadata": {},
     "output_type": "display_data"
    },
    {
     "data": {
      "application/vnd.jupyter.widget-view+json": {
       "model_id": "65f88a60442d426dbe0e1ca3a6e22fd9",
       "version_major": 2,
       "version_minor": 0
      },
      "text/plain": [
       "Map:   0%|          | 0/3149 [00:00<?, ? examples/s]"
      ]
     },
     "metadata": {},
     "output_type": "display_data"
    },
    {
     "data": {
      "application/vnd.jupyter.widget-view+json": {
       "model_id": "d7990ca135254c8295eb396692508910",
       "version_major": 2,
       "version_minor": 0
      },
      "text/plain": [
       "Map:   0%|          | 0/25196 [00:00<?, ? examples/s]"
      ]
     },
     "metadata": {},
     "output_type": "display_data"
    },
    {
     "data": {
      "application/vnd.jupyter.widget-view+json": {
       "model_id": "373f0922e7174b929dc70d6af17d97ee",
       "version_major": 2,
       "version_minor": 0
      },
      "text/plain": [
       "Map:   0%|          | 0/3149 [00:00<?, ? examples/s]"
      ]
     },
     "metadata": {},
     "output_type": "display_data"
    }
   ],
   "source": [
    "# use the tokenizer from DistilRoBERTa\n",
    "tokenizer = transformers.AutoTokenizer.from_pretrained(\"distilroberta-base\", pad_token_id=0)\n",
    "\n",
    "def tokenize(examples):\n",
    "    \"\"\"Converts the text of each example to \"input_ids\", a sequence of integers\n",
    "    representing 1-hot vectors for each token in the text\"\"\"\n",
    "    return tokenizer(examples[\"text\"], truncation=True, max_length=64,\n",
    "                     padding=\"max_length\")\n",
    "\n",
    "# load the CSVs into Huggingface datasets to allow use of the tokenizer\n",
    "hf_dataset = datasets.load_dataset(\"csv\", data_files={\n",
    "    \"train\": train_path, \"validation\": dev_path})\n",
    "\n",
    "# the labels are the names of all columns except the first\n",
    "labels = hf_dataset[\"train\"].column_names[1:]\n",
    "\n",
    "def gather_labels(example):\n",
    "    \"\"\"Converts the label columns into a list of 0s and 1s\"\"\"\n",
    "    # the float here is because converting hf to tf data requires a list or array of labels\n",
    "    return {\"labels\": [float(example[l]) for l in labels]}\n",
    "\n",
    "# convert text and labels to format expected by model\n",
    "hf_dataset = hf_dataset.map(gather_labels)\n",
    "hf_dataset = hf_dataset.map(tokenize, batched=True)"
   ]
  },
  {
   "cell_type": "markdown",
   "metadata": {},
   "source": [
    "### Convert to TF format"
   ]
  },
  {
   "cell_type": "code",
   "execution_count": 4,
   "metadata": {},
   "outputs": [],
   "source": [
    "# split train and val into their own objects\n",
    "hf_train = hf_dataset['train']\n",
    "hf_dev = hf_dataset['validation']\n",
    "\n",
    "# rename column for embeddings layer\n",
    "hf_train = hf_train.rename_column(\"input_ids\", \"embedding_inputs\")\n",
    "hf_dev = hf_dev.rename_column(\"input_ids\", \"embedding_inputs\")\n",
    "\n",
    "# convert Huggingface datasets to Tensorflow datasets\n",
    "train_dataset = hf_train.to_tf_dataset(\n",
    "    columns=\"embedding_inputs\",\n",
    "    label_cols=\"labels\",\n",
    "    batch_size=32,\n",
    "    shuffle=True)\n",
    "dev_dataset = hf_dev.to_tf_dataset(\n",
    "    columns=\"embedding_inputs\",\n",
    "    label_cols=\"labels\",\n",
    "    batch_size=32)"
   ]
  },
  {
   "cell_type": "markdown",
   "metadata": {},
   "source": [
    "### Model"
   ]
  },
  {
   "cell_type": "code",
   "execution_count": 13,
   "metadata": {},
   "outputs": [],
   "source": [
    "def run_model(embed_out, gru_units, dropout_rate, epochs, checkpoint, desc):\n",
    "\n",
    "    model_name = f\"{desc}_e_{embed_out}_g_{gru_units}_r_{relu_units}\"\n",
    "\n",
    "    # define a model with a single fully connected layer\n",
    "    model = tf.keras.Sequential()\n",
    "    model.add(layers.Embedding(\n",
    "        input_dim=tokenizer.vocab_size,\n",
    "        output_dim=embed_out,\n",
    "        mask_zero=True))\n",
    "    # conditional layer addition\n",
    "    model.add(layers.Bidirectional(layers.GRU(gru_units, return_sequences=True)))\n",
    "    model.add(layers.GlobalMaxPooling1D())\n",
    "    model.add(layers.Bidirectional(layers.GRU(gru_units)))\n",
    "    model.add(layers.Dropout(dropout_rate))\n",
    "    # final processing with a dense RELU layer\n",
    "    model.add(layers.Dense(64, activation='relu'))\n",
    "    model.add(layers.Dropout(.2))\n",
    "    model.add(layers.Dense(32, activation='relu'))\n",
    "    model.add(layers.Dropout(.2))\n",
    "\n",
    "    model.add(layers.Dense(\n",
    "        units=len(labels),\n",
    "        activation='sigmoid'))\n",
    "\n",
    "    # specify compilation hyperparameters\n",
    "    model.compile(\n",
    "        optimizer=tf.keras.optimizers.Adam(0.001),\n",
    "        loss=tf.keras.losses.binary_crossentropy,\n",
    "        metrics=[tf.keras.metrics.F1Score(average=\"micro\", threshold=0.5)])\n",
    "\n",
    "    # set time for run time and model naming\n",
    "    print(\"================================================================================\")\n",
    "    print(f\"MODEL SPEC.: {model_name}\")\n",
    "    start_time = time.time()\n",
    "\n",
    "    # set callbacks\n",
    "    def pick_callback(checkpoint):\n",
    "        callback_no_checkpoint = [\n",
    "            TensorBoard(\n",
    "                log_dir=f\"logs/{model_name}\"),\n",
    "            EarlyStopping(\n",
    "                monitor=\"val_f1_score\",\n",
    "                min_delta=0.25,\n",
    "                patience=5,\n",
    "                start_from_epoch=2)]\n",
    "        callback_checkpoint = [\n",
    "                ModelCheckpoint(\n",
    "                filepath=f\"checkpoints/{model_name}\",\n",
    "                monitor=\"val_f1_score\",\n",
    "                mode=\"max\",\n",
    "                save_best_only=True),\n",
    "            TensorBoard(\n",
    "                log_dir=f\"logs/{model_name}\"),\n",
    "            EarlyStopping(\n",
    "                monitor=\"val_f1_score\",\n",
    "                min_delta=0.009,\n",
    "                patience=3,\n",
    "                start_from_epoch=2)]\n",
    "\n",
    "        if checkpoint == True:\n",
    "            return callback_checkpoint\n",
    "        else:\n",
    "            return callback_no_checkpoint\n",
    "    \n",
    "       # fit the model to the training data, monitoring F1 on the dev data\n",
    "    model.fit(\n",
    "        train_dataset,\n",
    "        epochs=epochs,\n",
    "        validation_data=dev_dataset,\n",
    "        callbacks=pick_callback(checkpoint))\n",
    "\n",
    "    time_elapsed = (time.time() - start_time) / 60\n",
    "    print(f\"Time Elapsed: {time_elapsed} min.\")"
   ]
  },
  {
   "cell_type": "markdown",
   "metadata": {},
   "source": [
    "### Layer width grid search"
   ]
  },
  {
   "cell_type": "code",
   "execution_count": null,
   "metadata": {},
   "outputs": [],
   "source": [
    "# define grid search parameters and loop\n",
    "embed_out = [32, 64, 128]\n",
    "gru_units = [32, 64, 128, 256]\n",
    "relu_units = [32, 64, 128, 256]\n",
    "\n",
    "for e in embed_out:\n",
    "    for g in gru_units:\n",
    "        for r in relu_units:\n",
    "            run_model(e, g, r, 1)"
   ]
  },
  {
   "cell_type": "markdown",
   "metadata": {},
   "source": [
    "### Testings training stability of best models"
   ]
  },
  {
   "cell_type": "code",
   "execution_count": 10,
   "metadata": {},
   "outputs": [
    {
     "name": "stdout",
     "output_type": "stream",
     "text": [
      "================================================================================\n",
      "MODEL SPEC.: stability_e_128_g_64_r_32\n",
      "788/788 [==============================] - ETA: 0s - loss: 0.1441 - f1_score: 0.5863INFO:tensorflow:Assets written to: checkpoints/stability_e_128_g_64_r_32/assets\n"
     ]
    },
    {
     "name": "stderr",
     "output_type": "stream",
     "text": [
      "INFO:tensorflow:Assets written to: checkpoints/stability_e_128_g_64_r_32/assets\n"
     ]
    },
    {
     "name": "stdout",
     "output_type": "stream",
     "text": [
      "788/788 [==============================] - 89s 105ms/step - loss: 0.1441 - f1_score: 0.5863 - val_loss: 0.0815 - val_f1_score: 0.8123\n",
      "Time Elapsed: 1.48796306848526 min.\n",
      "================================================================================\n",
      "MODEL SPEC.: stability_e_128_g_64_r_32\n",
      "788/788 [==============================] - ETA: 0s - loss: 0.1500 - f1_score: 0.5667INFO:tensorflow:Assets written to: checkpoints/stability_e_128_g_64_r_32/assets\n"
     ]
    },
    {
     "name": "stderr",
     "output_type": "stream",
     "text": [
      "INFO:tensorflow:Assets written to: checkpoints/stability_e_128_g_64_r_32/assets\n"
     ]
    },
    {
     "name": "stdout",
     "output_type": "stream",
     "text": [
      "788/788 [==============================] - 91s 107ms/step - loss: 0.1500 - f1_score: 0.5667 - val_loss: 0.0832 - val_f1_score: 0.7909\n",
      "Time Elapsed: 2.4686445156733194 min.\n",
      "================================================================================\n",
      "MODEL SPEC.: stability_e_128_g_64_r_32\n",
      "788/788 [==============================] - ETA: 0s - loss: 0.1481 - f1_score: 0.5854INFO:tensorflow:Assets written to: checkpoints/stability_e_128_g_64_r_32/assets\n"
     ]
    },
    {
     "name": "stderr",
     "output_type": "stream",
     "text": [
      "INFO:tensorflow:Assets written to: checkpoints/stability_e_128_g_64_r_32/assets\n"
     ]
    },
    {
     "name": "stdout",
     "output_type": "stream",
     "text": [
      "788/788 [==============================] - 95s 112ms/step - loss: 0.1481 - f1_score: 0.5854 - val_loss: 0.0818 - val_f1_score: 0.8136\n",
      "Time Elapsed: 1.5821001331011455 min.\n",
      "================================================================================\n",
      "MODEL SPEC.: stability_e_128_g_64_r_32\n",
      "788/788 [==============================] - ETA: 0s - loss: 0.1514 - f1_score: 0.5520INFO:tensorflow:Assets written to: checkpoints/stability_e_128_g_64_r_32/assets\n"
     ]
    },
    {
     "name": "stderr",
     "output_type": "stream",
     "text": [
      "INFO:tensorflow:Assets written to: checkpoints/stability_e_128_g_64_r_32/assets\n"
     ]
    },
    {
     "name": "stdout",
     "output_type": "stream",
     "text": [
      "788/788 [==============================] - 92s 110ms/step - loss: 0.1514 - f1_score: 0.5520 - val_loss: 0.0834 - val_f1_score: 0.8038\n",
      "Time Elapsed: 2.4495981017748516 min.\n",
      "================================================================================\n",
      "MODEL SPEC.: stability_e_128_g_256_r_128\n",
      "788/788 [==============================] - ETA: 0s - loss: 0.1303 - f1_score: 0.6417INFO:tensorflow:Assets written to: checkpoints/stability_e_128_g_256_r_128/assets\n"
     ]
    },
    {
     "name": "stderr",
     "output_type": "stream",
     "text": [
      "INFO:tensorflow:Assets written to: checkpoints/stability_e_128_g_256_r_128/assets\n"
     ]
    },
    {
     "name": "stdout",
     "output_type": "stream",
     "text": [
      "788/788 [==============================] - 222s 271ms/step - loss: 0.1303 - f1_score: 0.6417 - val_loss: 0.0824 - val_f1_score: 0.8043\n",
      "Time Elapsed: 3.697490147749583 min.\n",
      "================================================================================\n",
      "MODEL SPEC.: stability_e_128_g_256_r_128\n",
      "788/788 [==============================] - ETA: 0s - loss: 0.1322 - f1_score: 0.6284INFO:tensorflow:Assets written to: checkpoints/stability_e_128_g_256_r_128/assets\n"
     ]
    },
    {
     "name": "stderr",
     "output_type": "stream",
     "text": [
      "INFO:tensorflow:Assets written to: checkpoints/stability_e_128_g_256_r_128/assets\n"
     ]
    },
    {
     "name": "stdout",
     "output_type": "stream",
     "text": [
      "788/788 [==============================] - 200s 244ms/step - loss: 0.1322 - f1_score: 0.6284 - val_loss: 0.0818 - val_f1_score: 0.8058\n",
      "Time Elapsed: 3.3310019612312316 min.\n",
      "================================================================================\n",
      "MODEL SPEC.: stability_e_128_g_256_r_128\n",
      "788/788 [==============================] - ETA: 0s - loss: 0.1296 - f1_score: 0.6433INFO:tensorflow:Assets written to: checkpoints/stability_e_128_g_256_r_128/assets\n"
     ]
    },
    {
     "name": "stderr",
     "output_type": "stream",
     "text": [
      "INFO:tensorflow:Assets written to: checkpoints/stability_e_128_g_256_r_128/assets\n"
     ]
    },
    {
     "name": "stdout",
     "output_type": "stream",
     "text": [
      "788/788 [==============================] - 186s 229ms/step - loss: 0.1296 - f1_score: 0.6433 - val_loss: 0.0801 - val_f1_score: 0.8152\n",
      "Time Elapsed: 3.1070512374242147 min.\n",
      "================================================================================\n",
      "MODEL SPEC.: stability_e_128_g_256_r_128\n",
      "788/788 [==============================] - ETA: 0s - loss: 0.1327 - f1_score: 0.6359INFO:tensorflow:Assets written to: checkpoints/stability_e_128_g_256_r_128/assets\n"
     ]
    },
    {
     "name": "stderr",
     "output_type": "stream",
     "text": [
      "INFO:tensorflow:Assets written to: checkpoints/stability_e_128_g_256_r_128/assets\n"
     ]
    },
    {
     "name": "stdout",
     "output_type": "stream",
     "text": [
      "788/788 [==============================] - 187s 230ms/step - loss: 0.1327 - f1_score: 0.6359 - val_loss: 0.0801 - val_f1_score: 0.7981\n",
      "Time Elapsed: 3.1231038848559063 min.\n"
     ]
    }
   ],
   "source": [
    "for _ in range(4):\n",
    "    run_model(\n",
    "        embed_out=128,\n",
    "        gru_units=64,\n",
    "        relu_units=32,\n",
    "        deep_rnn=False,\n",
    "        relu_layer=True,\n",
    "        epochs=1,\n",
    "        desc='stability')\n",
    "\n",
    "for _ in range(4):\n",
    "    run_model(\n",
    "        embed_out=128,\n",
    "        gru_units=256,\n",
    "        relu_units=128,\n",
    "        deep_rnn=False,\n",
    "        relu_layer=True,\n",
    "        epochs=1,\n",
    "        desc='stability')"
   ]
  },
  {
   "cell_type": "markdown",
   "metadata": {},
   "source": [
    "### Test larger embedding output dimension on best models"
   ]
  },
  {
   "cell_type": "code",
   "execution_count": 14,
   "metadata": {},
   "outputs": [
    {
     "name": "stdout",
     "output_type": "stream",
     "text": [
      "+++++++WIDE and BIG EMBEDDING DIM+++++++\n",
      "================================================================================\n",
      "MODEL SPEC.: wide_0_e_256_g_256_r_128\n",
      "788/788 [==============================] - 234s 289ms/step - loss: 0.1202 - f1_score: 0.6751 - val_loss: 0.0818 - val_f1_score: 0.8069\n",
      "Time Elapsed: 3.9052470525105796 min.\n",
      "================================================================================\n",
      "MODEL SPEC.: wide_1_e_256_g_256_r_128\n",
      "788/788 [==============================] - 239s 295ms/step - loss: 0.1233 - f1_score: 0.6670 - val_loss: 0.0783 - val_f1_score: 0.8199\n",
      "Time Elapsed: 4.458066550890605 min.\n",
      "+++++++NARROWER and BIG EMBEDDING DIM+++++++\n",
      "================================================================================\n",
      "MODEL SPEC.: narrow_0_e_256_g_128_r_128\n",
      "788/788 [==============================] - 150s 182ms/step - loss: 0.1294 - f1_score: 0.6480 - val_loss: 0.0779 - val_f1_score: 0.8044\n",
      "Time Elapsed: 2.4997939626375834 min.\n",
      "================================================================================\n",
      "MODEL SPEC.: narrow_1_e_256_g_128_r_128\n",
      "788/788 [==============================] - 153s 186ms/step - loss: 0.1253 - f1_score: 0.6604 - val_loss: 0.0767 - val_f1_score: 0.8138\n",
      "Time Elapsed: 2.552736254533132 min.\n",
      "+++++++NO RELU and BIG EMBEDDING DIM+++++++\n",
      "================================================================================\n",
      "MODEL SPEC.: no_relu_0_e_256_g_128_r_128\n",
      "788/788 [==============================] - 151s 182ms/step - loss: 0.1259 - f1_score: 0.6588 - val_loss: 0.0772 - val_f1_score: 0.8217\n",
      "Time Elapsed: 2.5096387108167013 min.\n",
      "================================================================================\n",
      "MODEL SPEC.: no_relu_1_e_256_g_128_r_128\n",
      "788/788 [==============================] - 168s 205ms/step - loss: 0.1259 - f1_score: 0.6540 - val_loss: 0.0780 - val_f1_score: 0.8162\n",
      "Time Elapsed: 2.804123079776764 min.\n"
     ]
    }
   ],
   "source": [
    "print(\"+++++++WIDE and BIG EMBEDDING DIM+++++++\")\n",
    "for i in range(1):\n",
    "    desc = f\"wide_{i}\"\n",
    "    run_model(\n",
    "        embed_out=256,\n",
    "        gru_units=256,\n",
    "        relu_units=128,\n",
    "        deep_rnn=False,\n",
    "        relu_layer=True,\n",
    "        epochs=1,\n",
    "        checkpoint=False,\n",
    "        desc=desc)\n",
    "        \n",
    "print(\"+++++++NARROWER and BIG EMBEDDING DIM+++++++\")\n",
    "for i in range(1):\n",
    "    desc = f\"narrow_{i}\"\n",
    "    run_model(\n",
    "        embed_out=256,\n",
    "        gru_units=128,\n",
    "        relu_units=128,\n",
    "        deep_rnn=False,\n",
    "        relu_layer=True,\n",
    "        epochs=1,\n",
    "        checkpoint=False,\n",
    "        desc=desc)\n",
    "        \n",
    "print(\"+++++++NO RELU and BIG EMBEDDING DIM+++++++\")\n",
    "for i in range(1):\n",
    "    desc = f\"no_relu_{i}\"\n",
    "    run_model(\n",
    "        embed_out=256,\n",
    "        gru_units=128,\n",
    "        relu_units=128,\n",
    "        deep_rnn=False,\n",
    "        relu_layer=False,\n",
    "        epochs=1,\n",
    "        checkpoint=False,\n",
    "        desc=desc)\n",
    "      "
   ]
  },
  {
   "cell_type": "markdown",
   "metadata": {},
   "source": [
    "### Test Larger Embedding Dim Sizes"
   ]
  },
  {
   "cell_type": "code",
   "execution_count": 7,
   "metadata": {},
   "outputs": [
    {
     "name": "stdout",
     "output_type": "stream",
     "text": [
      "+++++++LARGER EMBEDDING DIMS+++++++\n",
      "================================================================================\n",
      "MODEL SPEC.: embed-dims-stability__e_512_g_128_r_128\n",
      "788/788 [==============================] - 245s 303ms/step - loss: 0.1185 - f1_score: 0.6815 - val_loss: 0.0753 - val_f1_score: 0.8106\n",
      "Time Elapsed: 4.083845933278401 min.\n",
      "================================================================================\n",
      "MODEL SPEC.: embed-dims-stability__e_512_g_128_r_128\n",
      "788/788 [==============================] - 243s 302ms/step - loss: 0.1178 - f1_score: 0.6856 - val_loss: 0.0782 - val_f1_score: 0.8069\n",
      "Time Elapsed: 4.055330149332682 min.\n",
      "================================================================================\n",
      "MODEL SPEC.: embed-dims-stability__e_512_g_128_r_128\n",
      "788/788 [==============================] - 242s 299ms/step - loss: 0.1170 - f1_score: 0.6881 - val_loss: 0.0752 - val_f1_score: 0.8129\n",
      "Time Elapsed: 4.456600824991862 min.\n",
      "================================================================================\n",
      "MODEL SPEC.: embed-dims-stability__e_512_g_128_r_128\n",
      "788/788 [==============================] - 237s 294ms/step - loss: 0.1170 - f1_score: 0.6868 - val_loss: 0.0782 - val_f1_score: 0.8180\n",
      "Time Elapsed: 4.452627996603648 min.\n",
      "================================================================================\n",
      "MODEL SPEC.: embed-dims-stability__e_512_g_128_r_128\n",
      "788/788 [==============================] - 228s 283ms/step - loss: 0.1185 - f1_score: 0.6864 - val_loss: 0.0752 - val_f1_score: 0.8162\n",
      "Time Elapsed: 4.4465512990951535 min.\n",
      "================================================================================\n",
      "MODEL SPEC.: embed-dims-stability__e_1024_g_128_r_128\n",
      "788/788 [==============================] - 417s 523ms/step - loss: 0.1121 - f1_score: 0.7026 - val_loss: 0.0746 - val_f1_score: 0.8267\n",
      "Time Elapsed: 6.954580640792846 min.\n",
      "================================================================================\n",
      "MODEL SPEC.: embed-dims-stability__e_1024_g_128_r_128\n",
      "788/788 [==============================] - 430s 539ms/step - loss: 0.1120 - f1_score: 0.7057 - val_loss: 0.0758 - val_f1_score: 0.8154\n",
      "Time Elapsed: 7.166326224803925 min.\n",
      "================================================================================\n",
      "MODEL SPEC.: embed-dims-stability__e_1024_g_128_r_128\n",
      "788/788 [==============================] - 431s 540ms/step - loss: 0.1128 - f1_score: 0.7013 - val_loss: 0.0736 - val_f1_score: 0.8202\n",
      "Time Elapsed: 7.18612863222758 min.\n",
      "================================================================================\n",
      "MODEL SPEC.: embed-dims-stability__e_1024_g_128_r_128\n",
      "788/788 [==============================] - 432s 541ms/step - loss: 0.1122 - f1_score: 0.7031 - val_loss: 0.0758 - val_f1_score: 0.8223\n",
      "Time Elapsed: 7.19367485443751 min.\n",
      "================================================================================\n",
      "MODEL SPEC.: embed-dims-stability__e_1024_g_128_r_128\n",
      "788/788 [==============================] - 433s 543ms/step - loss: 0.1101 - f1_score: 0.7125 - val_loss: 0.0755 - val_f1_score: 0.8087\n",
      "Time Elapsed: 7.217430011431376 min.\n"
     ]
    }
   ],
   "source": [
    "print(\"+++++++LARGER EMBEDDING DIMS+++++++\")\n",
    "for d in [512, 1024]:\n",
    "    for _ in range(5):\n",
    "        desc = f\"embed-dims-stability_\"\n",
    "        run_model(\n",
    "            embed_out=d,\n",
    "            gru_units=128,\n",
    "            relu_units=128,\n",
    "            deep_rnn=False,\n",
    "            relu_layer=False,\n",
    "            epochs=1,\n",
    "            checkpoint=False,\n",
    "            desc=desc)"
   ]
  },
  {
   "cell_type": "markdown",
   "metadata": {},
   "source": [
    "### Even Bigger Embeddings Layer"
   ]
  },
  {
   "cell_type": "code",
   "execution_count": 8,
   "metadata": {},
   "outputs": [
    {
     "name": "stdout",
     "output_type": "stream",
     "text": [
      "================================================================================\n",
      "MODEL SPEC.: embed-dims-stability__e_2048_g_128_r_128\n",
      "788/788 [==============================] - 828s 1s/step - loss: 0.1070 - f1_score: 0.7169 - val_loss: 0.0750 - val_f1_score: 0.8170\n",
      "Time Elapsed: 14.460391795635223 min.\n",
      "================================================================================\n",
      "MODEL SPEC.: embed-dims-stability__e_2048_g_128_r_128\n",
      "788/788 [==============================] - 848s 1s/step - loss: 0.1075 - f1_score: 0.7198 - val_loss: 0.0748 - val_f1_score: 0.8096\n",
      "Time Elapsed: 14.465113210678101 min.\n",
      "================================================================================\n",
      "MODEL SPEC.: embed-dims-stability__e_2048_g_128_r_128\n",
      " 16/788 [..............................] - ETA: 14:04 - loss: 0.3249 - f1_score: 0.0606"
     ]
    },
    {
     "ename": "KeyboardInterrupt",
     "evalue": "",
     "output_type": "error",
     "traceback": [
      "\u001b[0;31m---------------------------------------------------------------------------\u001b[0m",
      "\u001b[0;31mKeyboardInterrupt\u001b[0m                         Traceback (most recent call last)",
      "\u001b[1;32m/home/reed/Projects/neural-networks/graduate-project-ReedMerrill/nn.ipynb Cell 17\u001b[0m line \u001b[0;36m3\n\u001b[1;32m      <a href='vscode-notebook-cell:/home/reed/Projects/neural-networks/graduate-project-ReedMerrill/nn.ipynb#X23sZmlsZQ%3D%3D?line=0'>1</a>\u001b[0m \u001b[39mfor\u001b[39;00m _ \u001b[39min\u001b[39;00m \u001b[39mrange\u001b[39m(\u001b[39m3\u001b[39m):\n\u001b[1;32m      <a href='vscode-notebook-cell:/home/reed/Projects/neural-networks/graduate-project-ReedMerrill/nn.ipynb#X23sZmlsZQ%3D%3D?line=1'>2</a>\u001b[0m     desc \u001b[39m=\u001b[39m \u001b[39mf\u001b[39m\u001b[39m\"\u001b[39m\u001b[39membed-dims-stability_\u001b[39m\u001b[39m\"\u001b[39m\n\u001b[0;32m----> <a href='vscode-notebook-cell:/home/reed/Projects/neural-networks/graduate-project-ReedMerrill/nn.ipynb#X23sZmlsZQ%3D%3D?line=2'>3</a>\u001b[0m     run_model(\n\u001b[1;32m      <a href='vscode-notebook-cell:/home/reed/Projects/neural-networks/graduate-project-ReedMerrill/nn.ipynb#X23sZmlsZQ%3D%3D?line=3'>4</a>\u001b[0m         embed_out\u001b[39m=\u001b[39;49m\u001b[39m2048\u001b[39;49m,\n\u001b[1;32m      <a href='vscode-notebook-cell:/home/reed/Projects/neural-networks/graduate-project-ReedMerrill/nn.ipynb#X23sZmlsZQ%3D%3D?line=4'>5</a>\u001b[0m         gru_units\u001b[39m=\u001b[39;49m\u001b[39m128\u001b[39;49m,\n\u001b[1;32m      <a href='vscode-notebook-cell:/home/reed/Projects/neural-networks/graduate-project-ReedMerrill/nn.ipynb#X23sZmlsZQ%3D%3D?line=5'>6</a>\u001b[0m         relu_units\u001b[39m=\u001b[39;49m\u001b[39m128\u001b[39;49m,\n\u001b[1;32m      <a href='vscode-notebook-cell:/home/reed/Projects/neural-networks/graduate-project-ReedMerrill/nn.ipynb#X23sZmlsZQ%3D%3D?line=6'>7</a>\u001b[0m         deep_rnn\u001b[39m=\u001b[39;49m\u001b[39mFalse\u001b[39;49;00m,\n\u001b[1;32m      <a href='vscode-notebook-cell:/home/reed/Projects/neural-networks/graduate-project-ReedMerrill/nn.ipynb#X23sZmlsZQ%3D%3D?line=7'>8</a>\u001b[0m         relu_layer\u001b[39m=\u001b[39;49m\u001b[39mFalse\u001b[39;49;00m,\n\u001b[1;32m      <a href='vscode-notebook-cell:/home/reed/Projects/neural-networks/graduate-project-ReedMerrill/nn.ipynb#X23sZmlsZQ%3D%3D?line=8'>9</a>\u001b[0m         epochs\u001b[39m=\u001b[39;49m\u001b[39m1\u001b[39;49m,\n\u001b[1;32m     <a href='vscode-notebook-cell:/home/reed/Projects/neural-networks/graduate-project-ReedMerrill/nn.ipynb#X23sZmlsZQ%3D%3D?line=9'>10</a>\u001b[0m         checkpoint\u001b[39m=\u001b[39;49m\u001b[39mFalse\u001b[39;49;00m,\n\u001b[1;32m     <a href='vscode-notebook-cell:/home/reed/Projects/neural-networks/graduate-project-ReedMerrill/nn.ipynb#X23sZmlsZQ%3D%3D?line=10'>11</a>\u001b[0m         desc\u001b[39m=\u001b[39;49mdesc)\n",
      "\u001b[1;32m/home/reed/Projects/neural-networks/graduate-project-ReedMerrill/nn.ipynb Cell 17\u001b[0m line \u001b[0;36m6\n\u001b[1;32m     <a href='vscode-notebook-cell:/home/reed/Projects/neural-networks/graduate-project-ReedMerrill/nn.ipynb#X23sZmlsZQ%3D%3D?line=62'>63</a>\u001b[0m         \u001b[39mreturn\u001b[39;00m callback_no_checkpoint\n\u001b[1;32m     <a href='vscode-notebook-cell:/home/reed/Projects/neural-networks/graduate-project-ReedMerrill/nn.ipynb#X23sZmlsZQ%3D%3D?line=64'>65</a>\u001b[0m    \u001b[39m# fit the model to the training data, monitoring F1 on the dev data\u001b[39;00m\n\u001b[0;32m---> <a href='vscode-notebook-cell:/home/reed/Projects/neural-networks/graduate-project-ReedMerrill/nn.ipynb#X23sZmlsZQ%3D%3D?line=65'>66</a>\u001b[0m model\u001b[39m.\u001b[39;49mfit(\n\u001b[1;32m     <a href='vscode-notebook-cell:/home/reed/Projects/neural-networks/graduate-project-ReedMerrill/nn.ipynb#X23sZmlsZQ%3D%3D?line=66'>67</a>\u001b[0m     train_dataset,\n\u001b[1;32m     <a href='vscode-notebook-cell:/home/reed/Projects/neural-networks/graduate-project-ReedMerrill/nn.ipynb#X23sZmlsZQ%3D%3D?line=67'>68</a>\u001b[0m     epochs\u001b[39m=\u001b[39;49mepochs,\n\u001b[1;32m     <a href='vscode-notebook-cell:/home/reed/Projects/neural-networks/graduate-project-ReedMerrill/nn.ipynb#X23sZmlsZQ%3D%3D?line=68'>69</a>\u001b[0m     validation_data\u001b[39m=\u001b[39;49mdev_dataset,\n\u001b[1;32m     <a href='vscode-notebook-cell:/home/reed/Projects/neural-networks/graduate-project-ReedMerrill/nn.ipynb#X23sZmlsZQ%3D%3D?line=69'>70</a>\u001b[0m     callbacks\u001b[39m=\u001b[39;49mpick_callback(checkpoint))\n\u001b[1;32m     <a href='vscode-notebook-cell:/home/reed/Projects/neural-networks/graduate-project-ReedMerrill/nn.ipynb#X23sZmlsZQ%3D%3D?line=71'>72</a>\u001b[0m time_elapsed \u001b[39m=\u001b[39m (time\u001b[39m.\u001b[39mtime() \u001b[39m-\u001b[39m start_time) \u001b[39m/\u001b[39m \u001b[39m60\u001b[39m\n\u001b[1;32m     <a href='vscode-notebook-cell:/home/reed/Projects/neural-networks/graduate-project-ReedMerrill/nn.ipynb#X23sZmlsZQ%3D%3D?line=72'>73</a>\u001b[0m \u001b[39mprint\u001b[39m(\u001b[39mf\u001b[39m\u001b[39m\"\u001b[39m\u001b[39mTime Elapsed: \u001b[39m\u001b[39m{\u001b[39;00mtime_elapsed\u001b[39m}\u001b[39;00m\u001b[39m min.\u001b[39m\u001b[39m\"\u001b[39m)\n",
      "File \u001b[0;32m~/miniconda3/envs/nnets/lib/python3.10/site-packages/keras/src/utils/traceback_utils.py:65\u001b[0m, in \u001b[0;36mfilter_traceback.<locals>.error_handler\u001b[0;34m(*args, **kwargs)\u001b[0m\n\u001b[1;32m     63\u001b[0m filtered_tb \u001b[39m=\u001b[39m \u001b[39mNone\u001b[39;00m\n\u001b[1;32m     64\u001b[0m \u001b[39mtry\u001b[39;00m:\n\u001b[0;32m---> 65\u001b[0m     \u001b[39mreturn\u001b[39;00m fn(\u001b[39m*\u001b[39;49margs, \u001b[39m*\u001b[39;49m\u001b[39m*\u001b[39;49mkwargs)\n\u001b[1;32m     66\u001b[0m \u001b[39mexcept\u001b[39;00m \u001b[39mException\u001b[39;00m \u001b[39mas\u001b[39;00m e:\n\u001b[1;32m     67\u001b[0m     filtered_tb \u001b[39m=\u001b[39m _process_traceback_frames(e\u001b[39m.\u001b[39m__traceback__)\n",
      "File \u001b[0;32m~/miniconda3/envs/nnets/lib/python3.10/site-packages/keras/src/engine/training.py:1783\u001b[0m, in \u001b[0;36mModel.fit\u001b[0;34m(self, x, y, batch_size, epochs, verbose, callbacks, validation_split, validation_data, shuffle, class_weight, sample_weight, initial_epoch, steps_per_epoch, validation_steps, validation_batch_size, validation_freq, max_queue_size, workers, use_multiprocessing)\u001b[0m\n\u001b[1;32m   1775\u001b[0m \u001b[39mwith\u001b[39;00m tf\u001b[39m.\u001b[39mprofiler\u001b[39m.\u001b[39mexperimental\u001b[39m.\u001b[39mTrace(\n\u001b[1;32m   1776\u001b[0m     \u001b[39m\"\u001b[39m\u001b[39mtrain\u001b[39m\u001b[39m\"\u001b[39m,\n\u001b[1;32m   1777\u001b[0m     epoch_num\u001b[39m=\u001b[39mepoch,\n\u001b[0;32m   (...)\u001b[0m\n\u001b[1;32m   1780\u001b[0m     _r\u001b[39m=\u001b[39m\u001b[39m1\u001b[39m,\n\u001b[1;32m   1781\u001b[0m ):\n\u001b[1;32m   1782\u001b[0m     callbacks\u001b[39m.\u001b[39mon_train_batch_begin(step)\n\u001b[0;32m-> 1783\u001b[0m     tmp_logs \u001b[39m=\u001b[39m \u001b[39mself\u001b[39;49m\u001b[39m.\u001b[39;49mtrain_function(iterator)\n\u001b[1;32m   1784\u001b[0m     \u001b[39mif\u001b[39;00m data_handler\u001b[39m.\u001b[39mshould_sync:\n\u001b[1;32m   1785\u001b[0m         context\u001b[39m.\u001b[39masync_wait()\n",
      "File \u001b[0;32m~/miniconda3/envs/nnets/lib/python3.10/site-packages/tensorflow/python/util/traceback_utils.py:150\u001b[0m, in \u001b[0;36mfilter_traceback.<locals>.error_handler\u001b[0;34m(*args, **kwargs)\u001b[0m\n\u001b[1;32m    148\u001b[0m filtered_tb \u001b[39m=\u001b[39m \u001b[39mNone\u001b[39;00m\n\u001b[1;32m    149\u001b[0m \u001b[39mtry\u001b[39;00m:\n\u001b[0;32m--> 150\u001b[0m   \u001b[39mreturn\u001b[39;00m fn(\u001b[39m*\u001b[39;49margs, \u001b[39m*\u001b[39;49m\u001b[39m*\u001b[39;49mkwargs)\n\u001b[1;32m    151\u001b[0m \u001b[39mexcept\u001b[39;00m \u001b[39mException\u001b[39;00m \u001b[39mas\u001b[39;00m e:\n\u001b[1;32m    152\u001b[0m   filtered_tb \u001b[39m=\u001b[39m _process_traceback_frames(e\u001b[39m.\u001b[39m__traceback__)\n",
      "File \u001b[0;32m~/miniconda3/envs/nnets/lib/python3.10/site-packages/tensorflow/python/eager/polymorphic_function/polymorphic_function.py:831\u001b[0m, in \u001b[0;36mFunction.__call__\u001b[0;34m(self, *args, **kwds)\u001b[0m\n\u001b[1;32m    828\u001b[0m compiler \u001b[39m=\u001b[39m \u001b[39m\"\u001b[39m\u001b[39mxla\u001b[39m\u001b[39m\"\u001b[39m \u001b[39mif\u001b[39;00m \u001b[39mself\u001b[39m\u001b[39m.\u001b[39m_jit_compile \u001b[39melse\u001b[39;00m \u001b[39m\"\u001b[39m\u001b[39mnonXla\u001b[39m\u001b[39m\"\u001b[39m\n\u001b[1;32m    830\u001b[0m \u001b[39mwith\u001b[39;00m OptionalXlaContext(\u001b[39mself\u001b[39m\u001b[39m.\u001b[39m_jit_compile):\n\u001b[0;32m--> 831\u001b[0m   result \u001b[39m=\u001b[39m \u001b[39mself\u001b[39;49m\u001b[39m.\u001b[39;49m_call(\u001b[39m*\u001b[39;49margs, \u001b[39m*\u001b[39;49m\u001b[39m*\u001b[39;49mkwds)\n\u001b[1;32m    833\u001b[0m new_tracing_count \u001b[39m=\u001b[39m \u001b[39mself\u001b[39m\u001b[39m.\u001b[39mexperimental_get_tracing_count()\n\u001b[1;32m    834\u001b[0m without_tracing \u001b[39m=\u001b[39m (tracing_count \u001b[39m==\u001b[39m new_tracing_count)\n",
      "File \u001b[0;32m~/miniconda3/envs/nnets/lib/python3.10/site-packages/tensorflow/python/eager/polymorphic_function/polymorphic_function.py:867\u001b[0m, in \u001b[0;36mFunction._call\u001b[0;34m(self, *args, **kwds)\u001b[0m\n\u001b[1;32m    864\u001b[0m   \u001b[39mself\u001b[39m\u001b[39m.\u001b[39m_lock\u001b[39m.\u001b[39mrelease()\n\u001b[1;32m    865\u001b[0m   \u001b[39m# In this case we have created variables on the first call, so we run the\u001b[39;00m\n\u001b[1;32m    866\u001b[0m   \u001b[39m# defunned version which is guaranteed to never create variables.\u001b[39;00m\n\u001b[0;32m--> 867\u001b[0m   \u001b[39mreturn\u001b[39;00m tracing_compilation\u001b[39m.\u001b[39;49mcall_function(\n\u001b[1;32m    868\u001b[0m       args, kwds, \u001b[39mself\u001b[39;49m\u001b[39m.\u001b[39;49m_no_variable_creation_config\n\u001b[1;32m    869\u001b[0m   )\n\u001b[1;32m    870\u001b[0m \u001b[39melif\u001b[39;00m \u001b[39mself\u001b[39m\u001b[39m.\u001b[39m_variable_creation_config \u001b[39mis\u001b[39;00m \u001b[39mnot\u001b[39;00m \u001b[39mNone\u001b[39;00m:\n\u001b[1;32m    871\u001b[0m   \u001b[39m# Release the lock early so that multiple threads can perform the call\u001b[39;00m\n\u001b[1;32m    872\u001b[0m   \u001b[39m# in parallel.\u001b[39;00m\n\u001b[1;32m    873\u001b[0m   \u001b[39mself\u001b[39m\u001b[39m.\u001b[39m_lock\u001b[39m.\u001b[39mrelease()\n",
      "File \u001b[0;32m~/miniconda3/envs/nnets/lib/python3.10/site-packages/tensorflow/python/eager/polymorphic_function/tracing_compilation.py:139\u001b[0m, in \u001b[0;36mcall_function\u001b[0;34m(args, kwargs, tracing_options)\u001b[0m\n\u001b[1;32m    137\u001b[0m bound_args \u001b[39m=\u001b[39m function\u001b[39m.\u001b[39mfunction_type\u001b[39m.\u001b[39mbind(\u001b[39m*\u001b[39margs, \u001b[39m*\u001b[39m\u001b[39m*\u001b[39mkwargs)\n\u001b[1;32m    138\u001b[0m flat_inputs \u001b[39m=\u001b[39m function\u001b[39m.\u001b[39mfunction_type\u001b[39m.\u001b[39munpack_inputs(bound_args)\n\u001b[0;32m--> 139\u001b[0m \u001b[39mreturn\u001b[39;00m function\u001b[39m.\u001b[39;49m_call_flat(  \u001b[39m# pylint: disable=protected-access\u001b[39;49;00m\n\u001b[1;32m    140\u001b[0m     flat_inputs, captured_inputs\u001b[39m=\u001b[39;49mfunction\u001b[39m.\u001b[39;49mcaptured_inputs\n\u001b[1;32m    141\u001b[0m )\n",
      "File \u001b[0;32m~/miniconda3/envs/nnets/lib/python3.10/site-packages/tensorflow/python/eager/polymorphic_function/concrete_function.py:1264\u001b[0m, in \u001b[0;36mConcreteFunction._call_flat\u001b[0;34m(self, tensor_inputs, captured_inputs)\u001b[0m\n\u001b[1;32m   1260\u001b[0m possible_gradient_type \u001b[39m=\u001b[39m gradients_util\u001b[39m.\u001b[39mPossibleTapeGradientTypes(args)\n\u001b[1;32m   1261\u001b[0m \u001b[39mif\u001b[39;00m (possible_gradient_type \u001b[39m==\u001b[39m gradients_util\u001b[39m.\u001b[39mPOSSIBLE_GRADIENT_TYPES_NONE\n\u001b[1;32m   1262\u001b[0m     \u001b[39mand\u001b[39;00m executing_eagerly):\n\u001b[1;32m   1263\u001b[0m   \u001b[39m# No tape is watching; skip to running the function.\u001b[39;00m\n\u001b[0;32m-> 1264\u001b[0m   \u001b[39mreturn\u001b[39;00m \u001b[39mself\u001b[39;49m\u001b[39m.\u001b[39;49m_inference_function\u001b[39m.\u001b[39;49mflat_call(args)\n\u001b[1;32m   1265\u001b[0m forward_backward \u001b[39m=\u001b[39m \u001b[39mself\u001b[39m\u001b[39m.\u001b[39m_select_forward_and_backward_functions(\n\u001b[1;32m   1266\u001b[0m     args,\n\u001b[1;32m   1267\u001b[0m     possible_gradient_type,\n\u001b[1;32m   1268\u001b[0m     executing_eagerly)\n\u001b[1;32m   1269\u001b[0m forward_function, args_with_tangents \u001b[39m=\u001b[39m forward_backward\u001b[39m.\u001b[39mforward()\n",
      "File \u001b[0;32m~/miniconda3/envs/nnets/lib/python3.10/site-packages/tensorflow/python/eager/polymorphic_function/atomic_function.py:217\u001b[0m, in \u001b[0;36mAtomicFunction.flat_call\u001b[0;34m(self, args)\u001b[0m\n\u001b[1;32m    215\u001b[0m \u001b[39mdef\u001b[39;00m \u001b[39mflat_call\u001b[39m(\u001b[39mself\u001b[39m, args: Sequence[core\u001b[39m.\u001b[39mTensor]) \u001b[39m-\u001b[39m\u001b[39m>\u001b[39m Any:\n\u001b[1;32m    216\u001b[0m \u001b[39m  \u001b[39m\u001b[39m\"\"\"Calls with tensor inputs and returns the structured output.\"\"\"\u001b[39;00m\n\u001b[0;32m--> 217\u001b[0m   flat_outputs \u001b[39m=\u001b[39m \u001b[39mself\u001b[39;49m(\u001b[39m*\u001b[39;49margs)\n\u001b[1;32m    218\u001b[0m   \u001b[39mreturn\u001b[39;00m \u001b[39mself\u001b[39m\u001b[39m.\u001b[39mfunction_type\u001b[39m.\u001b[39mpack_output(flat_outputs)\n",
      "File \u001b[0;32m~/miniconda3/envs/nnets/lib/python3.10/site-packages/tensorflow/python/eager/polymorphic_function/atomic_function.py:252\u001b[0m, in \u001b[0;36mAtomicFunction.__call__\u001b[0;34m(self, *args)\u001b[0m\n\u001b[1;32m    250\u001b[0m \u001b[39mwith\u001b[39;00m record\u001b[39m.\u001b[39mstop_recording():\n\u001b[1;32m    251\u001b[0m   \u001b[39mif\u001b[39;00m \u001b[39mself\u001b[39m\u001b[39m.\u001b[39m_bound_context\u001b[39m.\u001b[39mexecuting_eagerly():\n\u001b[0;32m--> 252\u001b[0m     outputs \u001b[39m=\u001b[39m \u001b[39mself\u001b[39;49m\u001b[39m.\u001b[39;49m_bound_context\u001b[39m.\u001b[39;49mcall_function(\n\u001b[1;32m    253\u001b[0m         \u001b[39mself\u001b[39;49m\u001b[39m.\u001b[39;49mname,\n\u001b[1;32m    254\u001b[0m         \u001b[39mlist\u001b[39;49m(args),\n\u001b[1;32m    255\u001b[0m         \u001b[39mlen\u001b[39;49m(\u001b[39mself\u001b[39;49m\u001b[39m.\u001b[39;49mfunction_type\u001b[39m.\u001b[39;49mflat_outputs),\n\u001b[1;32m    256\u001b[0m     )\n\u001b[1;32m    257\u001b[0m   \u001b[39melse\u001b[39;00m:\n\u001b[1;32m    258\u001b[0m     outputs \u001b[39m=\u001b[39m make_call_op_in_graph(\n\u001b[1;32m    259\u001b[0m         \u001b[39mself\u001b[39m,\n\u001b[1;32m    260\u001b[0m         \u001b[39mlist\u001b[39m(args),\n\u001b[1;32m    261\u001b[0m         \u001b[39mself\u001b[39m\u001b[39m.\u001b[39m_bound_context\u001b[39m.\u001b[39mfunction_call_options\u001b[39m.\u001b[39mas_attrs(),\n\u001b[1;32m    262\u001b[0m     )\n",
      "File \u001b[0;32m~/miniconda3/envs/nnets/lib/python3.10/site-packages/tensorflow/python/eager/context.py:1479\u001b[0m, in \u001b[0;36mContext.call_function\u001b[0;34m(self, name, tensor_inputs, num_outputs)\u001b[0m\n\u001b[1;32m   1477\u001b[0m cancellation_context \u001b[39m=\u001b[39m cancellation\u001b[39m.\u001b[39mcontext()\n\u001b[1;32m   1478\u001b[0m \u001b[39mif\u001b[39;00m cancellation_context \u001b[39mis\u001b[39;00m \u001b[39mNone\u001b[39;00m:\n\u001b[0;32m-> 1479\u001b[0m   outputs \u001b[39m=\u001b[39m execute\u001b[39m.\u001b[39;49mexecute(\n\u001b[1;32m   1480\u001b[0m       name\u001b[39m.\u001b[39;49mdecode(\u001b[39m\"\u001b[39;49m\u001b[39mutf-8\u001b[39;49m\u001b[39m\"\u001b[39;49m),\n\u001b[1;32m   1481\u001b[0m       num_outputs\u001b[39m=\u001b[39;49mnum_outputs,\n\u001b[1;32m   1482\u001b[0m       inputs\u001b[39m=\u001b[39;49mtensor_inputs,\n\u001b[1;32m   1483\u001b[0m       attrs\u001b[39m=\u001b[39;49mattrs,\n\u001b[1;32m   1484\u001b[0m       ctx\u001b[39m=\u001b[39;49m\u001b[39mself\u001b[39;49m,\n\u001b[1;32m   1485\u001b[0m   )\n\u001b[1;32m   1486\u001b[0m \u001b[39melse\u001b[39;00m:\n\u001b[1;32m   1487\u001b[0m   outputs \u001b[39m=\u001b[39m execute\u001b[39m.\u001b[39mexecute_with_cancellation(\n\u001b[1;32m   1488\u001b[0m       name\u001b[39m.\u001b[39mdecode(\u001b[39m\"\u001b[39m\u001b[39mutf-8\u001b[39m\u001b[39m\"\u001b[39m),\n\u001b[1;32m   1489\u001b[0m       num_outputs\u001b[39m=\u001b[39mnum_outputs,\n\u001b[0;32m   (...)\u001b[0m\n\u001b[1;32m   1493\u001b[0m       cancellation_manager\u001b[39m=\u001b[39mcancellation_context,\n\u001b[1;32m   1494\u001b[0m   )\n",
      "File \u001b[0;32m~/miniconda3/envs/nnets/lib/python3.10/site-packages/tensorflow/python/eager/execute.py:60\u001b[0m, in \u001b[0;36mquick_execute\u001b[0;34m(op_name, num_outputs, inputs, attrs, ctx, name)\u001b[0m\n\u001b[1;32m     53\u001b[0m   \u001b[39m# Convert any objects of type core_types.Tensor to Tensor.\u001b[39;00m\n\u001b[1;32m     54\u001b[0m   inputs \u001b[39m=\u001b[39m [\n\u001b[1;32m     55\u001b[0m       tensor_conversion_registry\u001b[39m.\u001b[39mconvert(t)\n\u001b[1;32m     56\u001b[0m       \u001b[39mif\u001b[39;00m \u001b[39misinstance\u001b[39m(t, core_types\u001b[39m.\u001b[39mTensor)\n\u001b[1;32m     57\u001b[0m       \u001b[39melse\u001b[39;00m t\n\u001b[1;32m     58\u001b[0m       \u001b[39mfor\u001b[39;00m t \u001b[39min\u001b[39;00m inputs\n\u001b[1;32m     59\u001b[0m   ]\n\u001b[0;32m---> 60\u001b[0m   tensors \u001b[39m=\u001b[39m pywrap_tfe\u001b[39m.\u001b[39;49mTFE_Py_Execute(ctx\u001b[39m.\u001b[39;49m_handle, device_name, op_name,\n\u001b[1;32m     61\u001b[0m                                       inputs, attrs, num_outputs)\n\u001b[1;32m     62\u001b[0m \u001b[39mexcept\u001b[39;00m core\u001b[39m.\u001b[39m_NotOkStatusException \u001b[39mas\u001b[39;00m e:\n\u001b[1;32m     63\u001b[0m   \u001b[39mif\u001b[39;00m name \u001b[39mis\u001b[39;00m \u001b[39mnot\u001b[39;00m \u001b[39mNone\u001b[39;00m:\n",
      "\u001b[0;31mKeyboardInterrupt\u001b[0m: "
     ]
    }
   ],
   "source": [
    "for _ in range(3):\n",
    "    desc = f\"embed-dims-stability_\"\n",
    "    run_model(\n",
    "        embed_out=2048,\n",
    "        gru_units=128,\n",
    "        relu_units=128,\n",
    "        deep_rnn=False,\n",
    "        relu_layer=False,\n",
    "        epochs=1,\n",
    "        checkpoint=False,\n",
    "        desc=desc)"
   ]
  },
  {
   "cell_type": "markdown",
   "metadata": {},
   "source": [
    "### Going for it!"
   ]
  },
  {
   "cell_type": "code",
   "execution_count": 9,
   "metadata": {},
   "outputs": [
    {
     "name": "stdout",
     "output_type": "stream",
     "text": [
      "================================================================================\n",
      "MODEL SPEC.: deep-stability__e_1024_g_128_r_128\n",
      "Epoch 1/10\n",
      "788/788 [==============================] - ETA: 0s - loss: 0.1109 - f1_score: 0.7056INFO:tensorflow:Assets written to: checkpoints/deep-stability__e_1024_g_128_r_128/assets\n"
     ]
    },
    {
     "name": "stderr",
     "output_type": "stream",
     "text": [
      "INFO:tensorflow:Assets written to: checkpoints/deep-stability__e_1024_g_128_r_128/assets\n"
     ]
    },
    {
     "name": "stdout",
     "output_type": "stream",
     "text": [
      "788/788 [==============================] - 547s 677ms/step - loss: 0.1109 - f1_score: 0.7056 - val_loss: 0.0726 - val_f1_score: 0.8208\n",
      "Epoch 2/10\n",
      "788/788 [==============================] - 514s 652ms/step - loss: 0.0604 - f1_score: 0.8454 - val_loss: 0.0762 - val_f1_score: 0.8014\n",
      "Epoch 3/10\n",
      "788/788 [==============================] - 498s 631ms/step - loss: 0.0367 - f1_score: 0.9029 - val_loss: 0.0884 - val_f1_score: 0.8065\n",
      "Epoch 4/10\n",
      "115/788 [===>..........................] - ETA: 6:59 - loss: 0.0219 - f1_score: 0.9486"
     ]
    },
    {
     "ename": "KeyboardInterrupt",
     "evalue": "",
     "output_type": "error",
     "traceback": [
      "\u001b[0;31m---------------------------------------------------------------------------\u001b[0m",
      "\u001b[0;31mKeyboardInterrupt\u001b[0m                         Traceback (most recent call last)",
      "\u001b[1;32m/home/reed/Projects/neural-networks/graduate-project-ReedMerrill/nn.ipynb Cell 19\u001b[0m line \u001b[0;36m3\n\u001b[1;32m      <a href='vscode-notebook-cell:/home/reed/Projects/neural-networks/graduate-project-ReedMerrill/nn.ipynb#X25sZmlsZQ%3D%3D?line=0'>1</a>\u001b[0m \u001b[39mfor\u001b[39;00m _ \u001b[39min\u001b[39;00m \u001b[39mrange\u001b[39m(\u001b[39m3\u001b[39m):\n\u001b[1;32m      <a href='vscode-notebook-cell:/home/reed/Projects/neural-networks/graduate-project-ReedMerrill/nn.ipynb#X25sZmlsZQ%3D%3D?line=1'>2</a>\u001b[0m     desc \u001b[39m=\u001b[39m \u001b[39mf\u001b[39m\u001b[39m\"\u001b[39m\u001b[39mdeep-stability_\u001b[39m\u001b[39m\"\u001b[39m\n\u001b[0;32m----> <a href='vscode-notebook-cell:/home/reed/Projects/neural-networks/graduate-project-ReedMerrill/nn.ipynb#X25sZmlsZQ%3D%3D?line=2'>3</a>\u001b[0m     run_model(\n\u001b[1;32m      <a href='vscode-notebook-cell:/home/reed/Projects/neural-networks/graduate-project-ReedMerrill/nn.ipynb#X25sZmlsZQ%3D%3D?line=3'>4</a>\u001b[0m         embed_out\u001b[39m=\u001b[39;49m\u001b[39m1024\u001b[39;49m,\n\u001b[1;32m      <a href='vscode-notebook-cell:/home/reed/Projects/neural-networks/graduate-project-ReedMerrill/nn.ipynb#X25sZmlsZQ%3D%3D?line=4'>5</a>\u001b[0m         gru_units\u001b[39m=\u001b[39;49m\u001b[39m128\u001b[39;49m,\n\u001b[1;32m      <a href='vscode-notebook-cell:/home/reed/Projects/neural-networks/graduate-project-ReedMerrill/nn.ipynb#X25sZmlsZQ%3D%3D?line=5'>6</a>\u001b[0m         relu_units\u001b[39m=\u001b[39;49m\u001b[39m128\u001b[39;49m,\n\u001b[1;32m      <a href='vscode-notebook-cell:/home/reed/Projects/neural-networks/graduate-project-ReedMerrill/nn.ipynb#X25sZmlsZQ%3D%3D?line=6'>7</a>\u001b[0m         deep_rnn\u001b[39m=\u001b[39;49m\u001b[39mTrue\u001b[39;49;00m,\n\u001b[1;32m      <a href='vscode-notebook-cell:/home/reed/Projects/neural-networks/graduate-project-ReedMerrill/nn.ipynb#X25sZmlsZQ%3D%3D?line=7'>8</a>\u001b[0m         relu_layer\u001b[39m=\u001b[39;49m\u001b[39mFalse\u001b[39;49;00m,\n\u001b[1;32m      <a href='vscode-notebook-cell:/home/reed/Projects/neural-networks/graduate-project-ReedMerrill/nn.ipynb#X25sZmlsZQ%3D%3D?line=8'>9</a>\u001b[0m         epochs\u001b[39m=\u001b[39;49m\u001b[39m10\u001b[39;49m,\n\u001b[1;32m     <a href='vscode-notebook-cell:/home/reed/Projects/neural-networks/graduate-project-ReedMerrill/nn.ipynb#X25sZmlsZQ%3D%3D?line=9'>10</a>\u001b[0m         checkpoint\u001b[39m=\u001b[39;49m\u001b[39mTrue\u001b[39;49;00m,\n\u001b[1;32m     <a href='vscode-notebook-cell:/home/reed/Projects/neural-networks/graduate-project-ReedMerrill/nn.ipynb#X25sZmlsZQ%3D%3D?line=10'>11</a>\u001b[0m         desc\u001b[39m=\u001b[39;49mdesc)\n",
      "\u001b[1;32m/home/reed/Projects/neural-networks/graduate-project-ReedMerrill/nn.ipynb Cell 19\u001b[0m line \u001b[0;36m6\n\u001b[1;32m     <a href='vscode-notebook-cell:/home/reed/Projects/neural-networks/graduate-project-ReedMerrill/nn.ipynb#X25sZmlsZQ%3D%3D?line=62'>63</a>\u001b[0m         \u001b[39mreturn\u001b[39;00m callback_no_checkpoint\n\u001b[1;32m     <a href='vscode-notebook-cell:/home/reed/Projects/neural-networks/graduate-project-ReedMerrill/nn.ipynb#X25sZmlsZQ%3D%3D?line=64'>65</a>\u001b[0m    \u001b[39m# fit the model to the training data, monitoring F1 on the dev data\u001b[39;00m\n\u001b[0;32m---> <a href='vscode-notebook-cell:/home/reed/Projects/neural-networks/graduate-project-ReedMerrill/nn.ipynb#X25sZmlsZQ%3D%3D?line=65'>66</a>\u001b[0m model\u001b[39m.\u001b[39;49mfit(\n\u001b[1;32m     <a href='vscode-notebook-cell:/home/reed/Projects/neural-networks/graduate-project-ReedMerrill/nn.ipynb#X25sZmlsZQ%3D%3D?line=66'>67</a>\u001b[0m     train_dataset,\n\u001b[1;32m     <a href='vscode-notebook-cell:/home/reed/Projects/neural-networks/graduate-project-ReedMerrill/nn.ipynb#X25sZmlsZQ%3D%3D?line=67'>68</a>\u001b[0m     epochs\u001b[39m=\u001b[39;49mepochs,\n\u001b[1;32m     <a href='vscode-notebook-cell:/home/reed/Projects/neural-networks/graduate-project-ReedMerrill/nn.ipynb#X25sZmlsZQ%3D%3D?line=68'>69</a>\u001b[0m     validation_data\u001b[39m=\u001b[39;49mdev_dataset,\n\u001b[1;32m     <a href='vscode-notebook-cell:/home/reed/Projects/neural-networks/graduate-project-ReedMerrill/nn.ipynb#X25sZmlsZQ%3D%3D?line=69'>70</a>\u001b[0m     callbacks\u001b[39m=\u001b[39;49mpick_callback(checkpoint))\n\u001b[1;32m     <a href='vscode-notebook-cell:/home/reed/Projects/neural-networks/graduate-project-ReedMerrill/nn.ipynb#X25sZmlsZQ%3D%3D?line=71'>72</a>\u001b[0m time_elapsed \u001b[39m=\u001b[39m (time\u001b[39m.\u001b[39mtime() \u001b[39m-\u001b[39m start_time) \u001b[39m/\u001b[39m \u001b[39m60\u001b[39m\n\u001b[1;32m     <a href='vscode-notebook-cell:/home/reed/Projects/neural-networks/graduate-project-ReedMerrill/nn.ipynb#X25sZmlsZQ%3D%3D?line=72'>73</a>\u001b[0m \u001b[39mprint\u001b[39m(\u001b[39mf\u001b[39m\u001b[39m\"\u001b[39m\u001b[39mTime Elapsed: \u001b[39m\u001b[39m{\u001b[39;00mtime_elapsed\u001b[39m}\u001b[39;00m\u001b[39m min.\u001b[39m\u001b[39m\"\u001b[39m)\n",
      "File \u001b[0;32m~/miniconda3/envs/nnets/lib/python3.10/site-packages/keras/src/utils/traceback_utils.py:65\u001b[0m, in \u001b[0;36mfilter_traceback.<locals>.error_handler\u001b[0;34m(*args, **kwargs)\u001b[0m\n\u001b[1;32m     63\u001b[0m filtered_tb \u001b[39m=\u001b[39m \u001b[39mNone\u001b[39;00m\n\u001b[1;32m     64\u001b[0m \u001b[39mtry\u001b[39;00m:\n\u001b[0;32m---> 65\u001b[0m     \u001b[39mreturn\u001b[39;00m fn(\u001b[39m*\u001b[39;49margs, \u001b[39m*\u001b[39;49m\u001b[39m*\u001b[39;49mkwargs)\n\u001b[1;32m     66\u001b[0m \u001b[39mexcept\u001b[39;00m \u001b[39mException\u001b[39;00m \u001b[39mas\u001b[39;00m e:\n\u001b[1;32m     67\u001b[0m     filtered_tb \u001b[39m=\u001b[39m _process_traceback_frames(e\u001b[39m.\u001b[39m__traceback__)\n",
      "File \u001b[0;32m~/miniconda3/envs/nnets/lib/python3.10/site-packages/keras/src/engine/training.py:1783\u001b[0m, in \u001b[0;36mModel.fit\u001b[0;34m(self, x, y, batch_size, epochs, verbose, callbacks, validation_split, validation_data, shuffle, class_weight, sample_weight, initial_epoch, steps_per_epoch, validation_steps, validation_batch_size, validation_freq, max_queue_size, workers, use_multiprocessing)\u001b[0m\n\u001b[1;32m   1775\u001b[0m \u001b[39mwith\u001b[39;00m tf\u001b[39m.\u001b[39mprofiler\u001b[39m.\u001b[39mexperimental\u001b[39m.\u001b[39mTrace(\n\u001b[1;32m   1776\u001b[0m     \u001b[39m\"\u001b[39m\u001b[39mtrain\u001b[39m\u001b[39m\"\u001b[39m,\n\u001b[1;32m   1777\u001b[0m     epoch_num\u001b[39m=\u001b[39mepoch,\n\u001b[0;32m   (...)\u001b[0m\n\u001b[1;32m   1780\u001b[0m     _r\u001b[39m=\u001b[39m\u001b[39m1\u001b[39m,\n\u001b[1;32m   1781\u001b[0m ):\n\u001b[1;32m   1782\u001b[0m     callbacks\u001b[39m.\u001b[39mon_train_batch_begin(step)\n\u001b[0;32m-> 1783\u001b[0m     tmp_logs \u001b[39m=\u001b[39m \u001b[39mself\u001b[39;49m\u001b[39m.\u001b[39;49mtrain_function(iterator)\n\u001b[1;32m   1784\u001b[0m     \u001b[39mif\u001b[39;00m data_handler\u001b[39m.\u001b[39mshould_sync:\n\u001b[1;32m   1785\u001b[0m         context\u001b[39m.\u001b[39masync_wait()\n",
      "File \u001b[0;32m~/miniconda3/envs/nnets/lib/python3.10/site-packages/tensorflow/python/util/traceback_utils.py:150\u001b[0m, in \u001b[0;36mfilter_traceback.<locals>.error_handler\u001b[0;34m(*args, **kwargs)\u001b[0m\n\u001b[1;32m    148\u001b[0m filtered_tb \u001b[39m=\u001b[39m \u001b[39mNone\u001b[39;00m\n\u001b[1;32m    149\u001b[0m \u001b[39mtry\u001b[39;00m:\n\u001b[0;32m--> 150\u001b[0m   \u001b[39mreturn\u001b[39;00m fn(\u001b[39m*\u001b[39;49margs, \u001b[39m*\u001b[39;49m\u001b[39m*\u001b[39;49mkwargs)\n\u001b[1;32m    151\u001b[0m \u001b[39mexcept\u001b[39;00m \u001b[39mException\u001b[39;00m \u001b[39mas\u001b[39;00m e:\n\u001b[1;32m    152\u001b[0m   filtered_tb \u001b[39m=\u001b[39m _process_traceback_frames(e\u001b[39m.\u001b[39m__traceback__)\n",
      "File \u001b[0;32m~/miniconda3/envs/nnets/lib/python3.10/site-packages/tensorflow/python/eager/polymorphic_function/polymorphic_function.py:831\u001b[0m, in \u001b[0;36mFunction.__call__\u001b[0;34m(self, *args, **kwds)\u001b[0m\n\u001b[1;32m    828\u001b[0m compiler \u001b[39m=\u001b[39m \u001b[39m\"\u001b[39m\u001b[39mxla\u001b[39m\u001b[39m\"\u001b[39m \u001b[39mif\u001b[39;00m \u001b[39mself\u001b[39m\u001b[39m.\u001b[39m_jit_compile \u001b[39melse\u001b[39;00m \u001b[39m\"\u001b[39m\u001b[39mnonXla\u001b[39m\u001b[39m\"\u001b[39m\n\u001b[1;32m    830\u001b[0m \u001b[39mwith\u001b[39;00m OptionalXlaContext(\u001b[39mself\u001b[39m\u001b[39m.\u001b[39m_jit_compile):\n\u001b[0;32m--> 831\u001b[0m   result \u001b[39m=\u001b[39m \u001b[39mself\u001b[39;49m\u001b[39m.\u001b[39;49m_call(\u001b[39m*\u001b[39;49margs, \u001b[39m*\u001b[39;49m\u001b[39m*\u001b[39;49mkwds)\n\u001b[1;32m    833\u001b[0m new_tracing_count \u001b[39m=\u001b[39m \u001b[39mself\u001b[39m\u001b[39m.\u001b[39mexperimental_get_tracing_count()\n\u001b[1;32m    834\u001b[0m without_tracing \u001b[39m=\u001b[39m (tracing_count \u001b[39m==\u001b[39m new_tracing_count)\n",
      "File \u001b[0;32m~/miniconda3/envs/nnets/lib/python3.10/site-packages/tensorflow/python/eager/polymorphic_function/polymorphic_function.py:867\u001b[0m, in \u001b[0;36mFunction._call\u001b[0;34m(self, *args, **kwds)\u001b[0m\n\u001b[1;32m    864\u001b[0m   \u001b[39mself\u001b[39m\u001b[39m.\u001b[39m_lock\u001b[39m.\u001b[39mrelease()\n\u001b[1;32m    865\u001b[0m   \u001b[39m# In this case we have created variables on the first call, so we run the\u001b[39;00m\n\u001b[1;32m    866\u001b[0m   \u001b[39m# defunned version which is guaranteed to never create variables.\u001b[39;00m\n\u001b[0;32m--> 867\u001b[0m   \u001b[39mreturn\u001b[39;00m tracing_compilation\u001b[39m.\u001b[39;49mcall_function(\n\u001b[1;32m    868\u001b[0m       args, kwds, \u001b[39mself\u001b[39;49m\u001b[39m.\u001b[39;49m_no_variable_creation_config\n\u001b[1;32m    869\u001b[0m   )\n\u001b[1;32m    870\u001b[0m \u001b[39melif\u001b[39;00m \u001b[39mself\u001b[39m\u001b[39m.\u001b[39m_variable_creation_config \u001b[39mis\u001b[39;00m \u001b[39mnot\u001b[39;00m \u001b[39mNone\u001b[39;00m:\n\u001b[1;32m    871\u001b[0m   \u001b[39m# Release the lock early so that multiple threads can perform the call\u001b[39;00m\n\u001b[1;32m    872\u001b[0m   \u001b[39m# in parallel.\u001b[39;00m\n\u001b[1;32m    873\u001b[0m   \u001b[39mself\u001b[39m\u001b[39m.\u001b[39m_lock\u001b[39m.\u001b[39mrelease()\n",
      "File \u001b[0;32m~/miniconda3/envs/nnets/lib/python3.10/site-packages/tensorflow/python/eager/polymorphic_function/tracing_compilation.py:139\u001b[0m, in \u001b[0;36mcall_function\u001b[0;34m(args, kwargs, tracing_options)\u001b[0m\n\u001b[1;32m    137\u001b[0m bound_args \u001b[39m=\u001b[39m function\u001b[39m.\u001b[39mfunction_type\u001b[39m.\u001b[39mbind(\u001b[39m*\u001b[39margs, \u001b[39m*\u001b[39m\u001b[39m*\u001b[39mkwargs)\n\u001b[1;32m    138\u001b[0m flat_inputs \u001b[39m=\u001b[39m function\u001b[39m.\u001b[39mfunction_type\u001b[39m.\u001b[39munpack_inputs(bound_args)\n\u001b[0;32m--> 139\u001b[0m \u001b[39mreturn\u001b[39;00m function\u001b[39m.\u001b[39;49m_call_flat(  \u001b[39m# pylint: disable=protected-access\u001b[39;49;00m\n\u001b[1;32m    140\u001b[0m     flat_inputs, captured_inputs\u001b[39m=\u001b[39;49mfunction\u001b[39m.\u001b[39;49mcaptured_inputs\n\u001b[1;32m    141\u001b[0m )\n",
      "File \u001b[0;32m~/miniconda3/envs/nnets/lib/python3.10/site-packages/tensorflow/python/eager/polymorphic_function/concrete_function.py:1264\u001b[0m, in \u001b[0;36mConcreteFunction._call_flat\u001b[0;34m(self, tensor_inputs, captured_inputs)\u001b[0m\n\u001b[1;32m   1260\u001b[0m possible_gradient_type \u001b[39m=\u001b[39m gradients_util\u001b[39m.\u001b[39mPossibleTapeGradientTypes(args)\n\u001b[1;32m   1261\u001b[0m \u001b[39mif\u001b[39;00m (possible_gradient_type \u001b[39m==\u001b[39m gradients_util\u001b[39m.\u001b[39mPOSSIBLE_GRADIENT_TYPES_NONE\n\u001b[1;32m   1262\u001b[0m     \u001b[39mand\u001b[39;00m executing_eagerly):\n\u001b[1;32m   1263\u001b[0m   \u001b[39m# No tape is watching; skip to running the function.\u001b[39;00m\n\u001b[0;32m-> 1264\u001b[0m   \u001b[39mreturn\u001b[39;00m \u001b[39mself\u001b[39;49m\u001b[39m.\u001b[39;49m_inference_function\u001b[39m.\u001b[39;49mflat_call(args)\n\u001b[1;32m   1265\u001b[0m forward_backward \u001b[39m=\u001b[39m \u001b[39mself\u001b[39m\u001b[39m.\u001b[39m_select_forward_and_backward_functions(\n\u001b[1;32m   1266\u001b[0m     args,\n\u001b[1;32m   1267\u001b[0m     possible_gradient_type,\n\u001b[1;32m   1268\u001b[0m     executing_eagerly)\n\u001b[1;32m   1269\u001b[0m forward_function, args_with_tangents \u001b[39m=\u001b[39m forward_backward\u001b[39m.\u001b[39mforward()\n",
      "File \u001b[0;32m~/miniconda3/envs/nnets/lib/python3.10/site-packages/tensorflow/python/eager/polymorphic_function/atomic_function.py:217\u001b[0m, in \u001b[0;36mAtomicFunction.flat_call\u001b[0;34m(self, args)\u001b[0m\n\u001b[1;32m    215\u001b[0m \u001b[39mdef\u001b[39;00m \u001b[39mflat_call\u001b[39m(\u001b[39mself\u001b[39m, args: Sequence[core\u001b[39m.\u001b[39mTensor]) \u001b[39m-\u001b[39m\u001b[39m>\u001b[39m Any:\n\u001b[1;32m    216\u001b[0m \u001b[39m  \u001b[39m\u001b[39m\"\"\"Calls with tensor inputs and returns the structured output.\"\"\"\u001b[39;00m\n\u001b[0;32m--> 217\u001b[0m   flat_outputs \u001b[39m=\u001b[39m \u001b[39mself\u001b[39;49m(\u001b[39m*\u001b[39;49margs)\n\u001b[1;32m    218\u001b[0m   \u001b[39mreturn\u001b[39;00m \u001b[39mself\u001b[39m\u001b[39m.\u001b[39mfunction_type\u001b[39m.\u001b[39mpack_output(flat_outputs)\n",
      "File \u001b[0;32m~/miniconda3/envs/nnets/lib/python3.10/site-packages/tensorflow/python/eager/polymorphic_function/atomic_function.py:252\u001b[0m, in \u001b[0;36mAtomicFunction.__call__\u001b[0;34m(self, *args)\u001b[0m\n\u001b[1;32m    250\u001b[0m \u001b[39mwith\u001b[39;00m record\u001b[39m.\u001b[39mstop_recording():\n\u001b[1;32m    251\u001b[0m   \u001b[39mif\u001b[39;00m \u001b[39mself\u001b[39m\u001b[39m.\u001b[39m_bound_context\u001b[39m.\u001b[39mexecuting_eagerly():\n\u001b[0;32m--> 252\u001b[0m     outputs \u001b[39m=\u001b[39m \u001b[39mself\u001b[39;49m\u001b[39m.\u001b[39;49m_bound_context\u001b[39m.\u001b[39;49mcall_function(\n\u001b[1;32m    253\u001b[0m         \u001b[39mself\u001b[39;49m\u001b[39m.\u001b[39;49mname,\n\u001b[1;32m    254\u001b[0m         \u001b[39mlist\u001b[39;49m(args),\n\u001b[1;32m    255\u001b[0m         \u001b[39mlen\u001b[39;49m(\u001b[39mself\u001b[39;49m\u001b[39m.\u001b[39;49mfunction_type\u001b[39m.\u001b[39;49mflat_outputs),\n\u001b[1;32m    256\u001b[0m     )\n\u001b[1;32m    257\u001b[0m   \u001b[39melse\u001b[39;00m:\n\u001b[1;32m    258\u001b[0m     outputs \u001b[39m=\u001b[39m make_call_op_in_graph(\n\u001b[1;32m    259\u001b[0m         \u001b[39mself\u001b[39m,\n\u001b[1;32m    260\u001b[0m         \u001b[39mlist\u001b[39m(args),\n\u001b[1;32m    261\u001b[0m         \u001b[39mself\u001b[39m\u001b[39m.\u001b[39m_bound_context\u001b[39m.\u001b[39mfunction_call_options\u001b[39m.\u001b[39mas_attrs(),\n\u001b[1;32m    262\u001b[0m     )\n",
      "File \u001b[0;32m~/miniconda3/envs/nnets/lib/python3.10/site-packages/tensorflow/python/eager/context.py:1479\u001b[0m, in \u001b[0;36mContext.call_function\u001b[0;34m(self, name, tensor_inputs, num_outputs)\u001b[0m\n\u001b[1;32m   1477\u001b[0m cancellation_context \u001b[39m=\u001b[39m cancellation\u001b[39m.\u001b[39mcontext()\n\u001b[1;32m   1478\u001b[0m \u001b[39mif\u001b[39;00m cancellation_context \u001b[39mis\u001b[39;00m \u001b[39mNone\u001b[39;00m:\n\u001b[0;32m-> 1479\u001b[0m   outputs \u001b[39m=\u001b[39m execute\u001b[39m.\u001b[39;49mexecute(\n\u001b[1;32m   1480\u001b[0m       name\u001b[39m.\u001b[39;49mdecode(\u001b[39m\"\u001b[39;49m\u001b[39mutf-8\u001b[39;49m\u001b[39m\"\u001b[39;49m),\n\u001b[1;32m   1481\u001b[0m       num_outputs\u001b[39m=\u001b[39;49mnum_outputs,\n\u001b[1;32m   1482\u001b[0m       inputs\u001b[39m=\u001b[39;49mtensor_inputs,\n\u001b[1;32m   1483\u001b[0m       attrs\u001b[39m=\u001b[39;49mattrs,\n\u001b[1;32m   1484\u001b[0m       ctx\u001b[39m=\u001b[39;49m\u001b[39mself\u001b[39;49m,\n\u001b[1;32m   1485\u001b[0m   )\n\u001b[1;32m   1486\u001b[0m \u001b[39melse\u001b[39;00m:\n\u001b[1;32m   1487\u001b[0m   outputs \u001b[39m=\u001b[39m execute\u001b[39m.\u001b[39mexecute_with_cancellation(\n\u001b[1;32m   1488\u001b[0m       name\u001b[39m.\u001b[39mdecode(\u001b[39m\"\u001b[39m\u001b[39mutf-8\u001b[39m\u001b[39m\"\u001b[39m),\n\u001b[1;32m   1489\u001b[0m       num_outputs\u001b[39m=\u001b[39mnum_outputs,\n\u001b[0;32m   (...)\u001b[0m\n\u001b[1;32m   1493\u001b[0m       cancellation_manager\u001b[39m=\u001b[39mcancellation_context,\n\u001b[1;32m   1494\u001b[0m   )\n",
      "File \u001b[0;32m~/miniconda3/envs/nnets/lib/python3.10/site-packages/tensorflow/python/eager/execute.py:60\u001b[0m, in \u001b[0;36mquick_execute\u001b[0;34m(op_name, num_outputs, inputs, attrs, ctx, name)\u001b[0m\n\u001b[1;32m     53\u001b[0m   \u001b[39m# Convert any objects of type core_types.Tensor to Tensor.\u001b[39;00m\n\u001b[1;32m     54\u001b[0m   inputs \u001b[39m=\u001b[39m [\n\u001b[1;32m     55\u001b[0m       tensor_conversion_registry\u001b[39m.\u001b[39mconvert(t)\n\u001b[1;32m     56\u001b[0m       \u001b[39mif\u001b[39;00m \u001b[39misinstance\u001b[39m(t, core_types\u001b[39m.\u001b[39mTensor)\n\u001b[1;32m     57\u001b[0m       \u001b[39melse\u001b[39;00m t\n\u001b[1;32m     58\u001b[0m       \u001b[39mfor\u001b[39;00m t \u001b[39min\u001b[39;00m inputs\n\u001b[1;32m     59\u001b[0m   ]\n\u001b[0;32m---> 60\u001b[0m   tensors \u001b[39m=\u001b[39m pywrap_tfe\u001b[39m.\u001b[39;49mTFE_Py_Execute(ctx\u001b[39m.\u001b[39;49m_handle, device_name, op_name,\n\u001b[1;32m     61\u001b[0m                                       inputs, attrs, num_outputs)\n\u001b[1;32m     62\u001b[0m \u001b[39mexcept\u001b[39;00m core\u001b[39m.\u001b[39m_NotOkStatusException \u001b[39mas\u001b[39;00m e:\n\u001b[1;32m     63\u001b[0m   \u001b[39mif\u001b[39;00m name \u001b[39mis\u001b[39;00m \u001b[39mnot\u001b[39;00m \u001b[39mNone\u001b[39;00m:\n",
      "\u001b[0;31mKeyboardInterrupt\u001b[0m: "
     ]
    }
   ],
   "source": [
    "for _ in range(3):\n",
    "    desc = f\"deep-stability_\"\n",
    "    run_model(\n",
    "        embed_out=512,\n",
    "        gru_units=128,\n",
    "        relu_units=128,\n",
    "        deep_rnn=True,\n",
    "        relu_layer=False,\n",
    "        epochs=10,\n",
    "        checkpoint=True,\n",
    "        desc=desc)"
   ]
  },
  {
   "cell_type": "markdown",
   "metadata": {},
   "source": [
    "### Dropout Rate"
   ]
  },
  {
   "cell_type": "code",
   "execution_count": 14,
   "metadata": {},
   "outputs": [
    {
     "name": "stdout",
     "output_type": "stream",
     "text": [
      "================================================================================\n",
      "MODEL SPEC.: dropout_0.5_multi_True_e_128_g_64_r_128\n",
      "Epoch 1/10\n",
      "788/788 [==============================] - ETA: 0s - loss: 0.1581 - f1_score: 0.5425INFO:tensorflow:Assets written to: checkpoints/dropout_0.5_multi_True_e_128_g_64_r_128/assets\n"
     ]
    },
    {
     "name": "stderr",
     "output_type": "stream",
     "text": [
      "INFO:tensorflow:Assets written to: checkpoints/dropout_0.5_multi_True_e_128_g_64_r_128/assets\n"
     ]
    },
    {
     "name": "stdout",
     "output_type": "stream",
     "text": [
      "788/788 [==============================] - 176s 204ms/step - loss: 0.1581 - f1_score: 0.5425 - val_loss: 0.0846 - val_f1_score: 0.8024\n",
      "Epoch 2/10\n",
      "788/788 [==============================] - ETA: 0s - loss: 0.0795 - f1_score: 0.8093INFO:tensorflow:Assets written to: checkpoints/dropout_0.5_multi_True_e_128_g_64_r_128/assets\n"
     ]
    },
    {
     "name": "stderr",
     "output_type": "stream",
     "text": [
      "INFO:tensorflow:Assets written to: checkpoints/dropout_0.5_multi_True_e_128_g_64_r_128/assets\n"
     ]
    },
    {
     "name": "stdout",
     "output_type": "stream",
     "text": [
      "788/788 [==============================] - 165s 209ms/step - loss: 0.0795 - f1_score: 0.8093 - val_loss: 0.0756 - val_f1_score: 0.8100\n",
      "Epoch 3/10\n",
      "788/788 [==============================] - 103s 130ms/step - loss: 0.0598 - f1_score: 0.8590 - val_loss: 0.0841 - val_f1_score: 0.7981\n",
      "Epoch 4/10\n",
      "788/788 [==============================] - 111s 141ms/step - loss: 0.0471 - f1_score: 0.8877 - val_loss: 0.0910 - val_f1_score: 0.7913\n",
      "Epoch 5/10\n",
      "788/788 [==============================] - 118s 150ms/step - loss: 0.0376 - f1_score: 0.9125 - val_loss: 0.1047 - val_f1_score: 0.7820\n",
      "Epoch 6/10\n",
      "556/788 [====================>.........] - ETA: 32s - loss: 0.0287 - f1_score: 0.9320"
     ]
    },
    {
     "ename": "KeyboardInterrupt",
     "evalue": "",
     "output_type": "error",
     "traceback": [
      "\u001b[0;31m---------------------------------------------------------------------------\u001b[0m",
      "\u001b[0;31mKeyboardInterrupt\u001b[0m                         Traceback (most recent call last)",
      "\u001b[1;32m/home/reed/Projects/neural-networks/graduate-project-ReedMerrill/nn.ipynb Cell 21\u001b[0m line \u001b[0;36m3\n\u001b[1;32m      <a href='vscode-notebook-cell:/home/reed/Projects/neural-networks/graduate-project-ReedMerrill/nn.ipynb#X30sZmlsZQ%3D%3D?line=0'>1</a>\u001b[0m \u001b[39mfor\u001b[39;00m d \u001b[39min\u001b[39;00m [\u001b[39m.5\u001b[39m, \u001b[39m.6\u001b[39m, \u001b[39m.7\u001b[39m]:\n\u001b[1;32m      <a href='vscode-notebook-cell:/home/reed/Projects/neural-networks/graduate-project-ReedMerrill/nn.ipynb#X30sZmlsZQ%3D%3D?line=1'>2</a>\u001b[0m     desc \u001b[39m=\u001b[39m \u001b[39mf\u001b[39m\u001b[39m\"\u001b[39m\u001b[39mdropout_\u001b[39m\u001b[39m{\u001b[39;00md\u001b[39m}\u001b[39;00m\u001b[39m_multi_True\u001b[39m\u001b[39m\"\u001b[39m\n\u001b[0;32m----> <a href='vscode-notebook-cell:/home/reed/Projects/neural-networks/graduate-project-ReedMerrill/nn.ipynb#X30sZmlsZQ%3D%3D?line=2'>3</a>\u001b[0m     run_model(\n\u001b[1;32m      <a href='vscode-notebook-cell:/home/reed/Projects/neural-networks/graduate-project-ReedMerrill/nn.ipynb#X30sZmlsZQ%3D%3D?line=3'>4</a>\u001b[0m         embed_out\u001b[39m=\u001b[39;49m\u001b[39m128\u001b[39;49m,\n\u001b[1;32m      <a href='vscode-notebook-cell:/home/reed/Projects/neural-networks/graduate-project-ReedMerrill/nn.ipynb#X30sZmlsZQ%3D%3D?line=4'>5</a>\u001b[0m         gru_units\u001b[39m=\u001b[39;49m\u001b[39m64\u001b[39;49m,\n\u001b[1;32m      <a href='vscode-notebook-cell:/home/reed/Projects/neural-networks/graduate-project-ReedMerrill/nn.ipynb#X30sZmlsZQ%3D%3D?line=5'>6</a>\u001b[0m         relu_units\u001b[39m=\u001b[39;49m\u001b[39m128\u001b[39;49m,\n\u001b[1;32m      <a href='vscode-notebook-cell:/home/reed/Projects/neural-networks/graduate-project-ReedMerrill/nn.ipynb#X30sZmlsZQ%3D%3D?line=6'>7</a>\u001b[0m         deep_rnn\u001b[39m=\u001b[39;49m\u001b[39mTrue\u001b[39;49;00m,\n\u001b[1;32m      <a href='vscode-notebook-cell:/home/reed/Projects/neural-networks/graduate-project-ReedMerrill/nn.ipynb#X30sZmlsZQ%3D%3D?line=7'>8</a>\u001b[0m         dropout_rate\u001b[39m=\u001b[39;49md,\n\u001b[1;32m      <a href='vscode-notebook-cell:/home/reed/Projects/neural-networks/graduate-project-ReedMerrill/nn.ipynb#X30sZmlsZQ%3D%3D?line=8'>9</a>\u001b[0m         multi_dropout\u001b[39m=\u001b[39;49m\u001b[39mTrue\u001b[39;49;00m,\n\u001b[1;32m     <a href='vscode-notebook-cell:/home/reed/Projects/neural-networks/graduate-project-ReedMerrill/nn.ipynb#X30sZmlsZQ%3D%3D?line=9'>10</a>\u001b[0m         relu_layer\u001b[39m=\u001b[39;49m\u001b[39mFalse\u001b[39;49;00m,\n\u001b[1;32m     <a href='vscode-notebook-cell:/home/reed/Projects/neural-networks/graduate-project-ReedMerrill/nn.ipynb#X30sZmlsZQ%3D%3D?line=10'>11</a>\u001b[0m         epochs\u001b[39m=\u001b[39;49m\u001b[39m10\u001b[39;49m,\n\u001b[1;32m     <a href='vscode-notebook-cell:/home/reed/Projects/neural-networks/graduate-project-ReedMerrill/nn.ipynb#X30sZmlsZQ%3D%3D?line=11'>12</a>\u001b[0m         checkpoint\u001b[39m=\u001b[39;49m\u001b[39mTrue\u001b[39;49;00m,\n\u001b[1;32m     <a href='vscode-notebook-cell:/home/reed/Projects/neural-networks/graduate-project-ReedMerrill/nn.ipynb#X30sZmlsZQ%3D%3D?line=12'>13</a>\u001b[0m         desc\u001b[39m=\u001b[39;49mdesc)\n",
      "\u001b[1;32m/home/reed/Projects/neural-networks/graduate-project-ReedMerrill/nn.ipynb Cell 21\u001b[0m line \u001b[0;36m6\n\u001b[1;32m     <a href='vscode-notebook-cell:/home/reed/Projects/neural-networks/graduate-project-ReedMerrill/nn.ipynb#X30sZmlsZQ%3D%3D?line=65'>66</a>\u001b[0m         \u001b[39mreturn\u001b[39;00m callback_no_checkpoint\n\u001b[1;32m     <a href='vscode-notebook-cell:/home/reed/Projects/neural-networks/graduate-project-ReedMerrill/nn.ipynb#X30sZmlsZQ%3D%3D?line=67'>68</a>\u001b[0m    \u001b[39m# fit the model to the training data, monitoring F1 on the dev data\u001b[39;00m\n\u001b[0;32m---> <a href='vscode-notebook-cell:/home/reed/Projects/neural-networks/graduate-project-ReedMerrill/nn.ipynb#X30sZmlsZQ%3D%3D?line=68'>69</a>\u001b[0m model\u001b[39m.\u001b[39;49mfit(\n\u001b[1;32m     <a href='vscode-notebook-cell:/home/reed/Projects/neural-networks/graduate-project-ReedMerrill/nn.ipynb#X30sZmlsZQ%3D%3D?line=69'>70</a>\u001b[0m     train_dataset,\n\u001b[1;32m     <a href='vscode-notebook-cell:/home/reed/Projects/neural-networks/graduate-project-ReedMerrill/nn.ipynb#X30sZmlsZQ%3D%3D?line=70'>71</a>\u001b[0m     epochs\u001b[39m=\u001b[39;49mepochs,\n\u001b[1;32m     <a href='vscode-notebook-cell:/home/reed/Projects/neural-networks/graduate-project-ReedMerrill/nn.ipynb#X30sZmlsZQ%3D%3D?line=71'>72</a>\u001b[0m     validation_data\u001b[39m=\u001b[39;49mdev_dataset,\n\u001b[1;32m     <a href='vscode-notebook-cell:/home/reed/Projects/neural-networks/graduate-project-ReedMerrill/nn.ipynb#X30sZmlsZQ%3D%3D?line=72'>73</a>\u001b[0m     callbacks\u001b[39m=\u001b[39;49mpick_callback(checkpoint))\n\u001b[1;32m     <a href='vscode-notebook-cell:/home/reed/Projects/neural-networks/graduate-project-ReedMerrill/nn.ipynb#X30sZmlsZQ%3D%3D?line=74'>75</a>\u001b[0m time_elapsed \u001b[39m=\u001b[39m (time\u001b[39m.\u001b[39mtime() \u001b[39m-\u001b[39m start_time) \u001b[39m/\u001b[39m \u001b[39m60\u001b[39m\n\u001b[1;32m     <a href='vscode-notebook-cell:/home/reed/Projects/neural-networks/graduate-project-ReedMerrill/nn.ipynb#X30sZmlsZQ%3D%3D?line=75'>76</a>\u001b[0m \u001b[39mprint\u001b[39m(\u001b[39mf\u001b[39m\u001b[39m\"\u001b[39m\u001b[39mTime Elapsed: \u001b[39m\u001b[39m{\u001b[39;00mtime_elapsed\u001b[39m}\u001b[39;00m\u001b[39m min.\u001b[39m\u001b[39m\"\u001b[39m)\n",
      "File \u001b[0;32m~/miniconda3/envs/nnets/lib/python3.10/site-packages/keras/src/utils/traceback_utils.py:65\u001b[0m, in \u001b[0;36mfilter_traceback.<locals>.error_handler\u001b[0;34m(*args, **kwargs)\u001b[0m\n\u001b[1;32m     63\u001b[0m filtered_tb \u001b[39m=\u001b[39m \u001b[39mNone\u001b[39;00m\n\u001b[1;32m     64\u001b[0m \u001b[39mtry\u001b[39;00m:\n\u001b[0;32m---> 65\u001b[0m     \u001b[39mreturn\u001b[39;00m fn(\u001b[39m*\u001b[39;49margs, \u001b[39m*\u001b[39;49m\u001b[39m*\u001b[39;49mkwargs)\n\u001b[1;32m     66\u001b[0m \u001b[39mexcept\u001b[39;00m \u001b[39mException\u001b[39;00m \u001b[39mas\u001b[39;00m e:\n\u001b[1;32m     67\u001b[0m     filtered_tb \u001b[39m=\u001b[39m _process_traceback_frames(e\u001b[39m.\u001b[39m__traceback__)\n",
      "File \u001b[0;32m~/miniconda3/envs/nnets/lib/python3.10/site-packages/keras/src/engine/training.py:1783\u001b[0m, in \u001b[0;36mModel.fit\u001b[0;34m(self, x, y, batch_size, epochs, verbose, callbacks, validation_split, validation_data, shuffle, class_weight, sample_weight, initial_epoch, steps_per_epoch, validation_steps, validation_batch_size, validation_freq, max_queue_size, workers, use_multiprocessing)\u001b[0m\n\u001b[1;32m   1775\u001b[0m \u001b[39mwith\u001b[39;00m tf\u001b[39m.\u001b[39mprofiler\u001b[39m.\u001b[39mexperimental\u001b[39m.\u001b[39mTrace(\n\u001b[1;32m   1776\u001b[0m     \u001b[39m\"\u001b[39m\u001b[39mtrain\u001b[39m\u001b[39m\"\u001b[39m,\n\u001b[1;32m   1777\u001b[0m     epoch_num\u001b[39m=\u001b[39mepoch,\n\u001b[0;32m   (...)\u001b[0m\n\u001b[1;32m   1780\u001b[0m     _r\u001b[39m=\u001b[39m\u001b[39m1\u001b[39m,\n\u001b[1;32m   1781\u001b[0m ):\n\u001b[1;32m   1782\u001b[0m     callbacks\u001b[39m.\u001b[39mon_train_batch_begin(step)\n\u001b[0;32m-> 1783\u001b[0m     tmp_logs \u001b[39m=\u001b[39m \u001b[39mself\u001b[39;49m\u001b[39m.\u001b[39;49mtrain_function(iterator)\n\u001b[1;32m   1784\u001b[0m     \u001b[39mif\u001b[39;00m data_handler\u001b[39m.\u001b[39mshould_sync:\n\u001b[1;32m   1785\u001b[0m         context\u001b[39m.\u001b[39masync_wait()\n",
      "File \u001b[0;32m~/miniconda3/envs/nnets/lib/python3.10/site-packages/tensorflow/python/util/traceback_utils.py:150\u001b[0m, in \u001b[0;36mfilter_traceback.<locals>.error_handler\u001b[0;34m(*args, **kwargs)\u001b[0m\n\u001b[1;32m    148\u001b[0m filtered_tb \u001b[39m=\u001b[39m \u001b[39mNone\u001b[39;00m\n\u001b[1;32m    149\u001b[0m \u001b[39mtry\u001b[39;00m:\n\u001b[0;32m--> 150\u001b[0m   \u001b[39mreturn\u001b[39;00m fn(\u001b[39m*\u001b[39;49margs, \u001b[39m*\u001b[39;49m\u001b[39m*\u001b[39;49mkwargs)\n\u001b[1;32m    151\u001b[0m \u001b[39mexcept\u001b[39;00m \u001b[39mException\u001b[39;00m \u001b[39mas\u001b[39;00m e:\n\u001b[1;32m    152\u001b[0m   filtered_tb \u001b[39m=\u001b[39m _process_traceback_frames(e\u001b[39m.\u001b[39m__traceback__)\n",
      "File \u001b[0;32m~/miniconda3/envs/nnets/lib/python3.10/site-packages/tensorflow/python/eager/polymorphic_function/polymorphic_function.py:831\u001b[0m, in \u001b[0;36mFunction.__call__\u001b[0;34m(self, *args, **kwds)\u001b[0m\n\u001b[1;32m    828\u001b[0m compiler \u001b[39m=\u001b[39m \u001b[39m\"\u001b[39m\u001b[39mxla\u001b[39m\u001b[39m\"\u001b[39m \u001b[39mif\u001b[39;00m \u001b[39mself\u001b[39m\u001b[39m.\u001b[39m_jit_compile \u001b[39melse\u001b[39;00m \u001b[39m\"\u001b[39m\u001b[39mnonXla\u001b[39m\u001b[39m\"\u001b[39m\n\u001b[1;32m    830\u001b[0m \u001b[39mwith\u001b[39;00m OptionalXlaContext(\u001b[39mself\u001b[39m\u001b[39m.\u001b[39m_jit_compile):\n\u001b[0;32m--> 831\u001b[0m   result \u001b[39m=\u001b[39m \u001b[39mself\u001b[39;49m\u001b[39m.\u001b[39;49m_call(\u001b[39m*\u001b[39;49margs, \u001b[39m*\u001b[39;49m\u001b[39m*\u001b[39;49mkwds)\n\u001b[1;32m    833\u001b[0m new_tracing_count \u001b[39m=\u001b[39m \u001b[39mself\u001b[39m\u001b[39m.\u001b[39mexperimental_get_tracing_count()\n\u001b[1;32m    834\u001b[0m without_tracing \u001b[39m=\u001b[39m (tracing_count \u001b[39m==\u001b[39m new_tracing_count)\n",
      "File \u001b[0;32m~/miniconda3/envs/nnets/lib/python3.10/site-packages/tensorflow/python/eager/polymorphic_function/polymorphic_function.py:867\u001b[0m, in \u001b[0;36mFunction._call\u001b[0;34m(self, *args, **kwds)\u001b[0m\n\u001b[1;32m    864\u001b[0m   \u001b[39mself\u001b[39m\u001b[39m.\u001b[39m_lock\u001b[39m.\u001b[39mrelease()\n\u001b[1;32m    865\u001b[0m   \u001b[39m# In this case we have created variables on the first call, so we run the\u001b[39;00m\n\u001b[1;32m    866\u001b[0m   \u001b[39m# defunned version which is guaranteed to never create variables.\u001b[39;00m\n\u001b[0;32m--> 867\u001b[0m   \u001b[39mreturn\u001b[39;00m tracing_compilation\u001b[39m.\u001b[39;49mcall_function(\n\u001b[1;32m    868\u001b[0m       args, kwds, \u001b[39mself\u001b[39;49m\u001b[39m.\u001b[39;49m_no_variable_creation_config\n\u001b[1;32m    869\u001b[0m   )\n\u001b[1;32m    870\u001b[0m \u001b[39melif\u001b[39;00m \u001b[39mself\u001b[39m\u001b[39m.\u001b[39m_variable_creation_config \u001b[39mis\u001b[39;00m \u001b[39mnot\u001b[39;00m \u001b[39mNone\u001b[39;00m:\n\u001b[1;32m    871\u001b[0m   \u001b[39m# Release the lock early so that multiple threads can perform the call\u001b[39;00m\n\u001b[1;32m    872\u001b[0m   \u001b[39m# in parallel.\u001b[39;00m\n\u001b[1;32m    873\u001b[0m   \u001b[39mself\u001b[39m\u001b[39m.\u001b[39m_lock\u001b[39m.\u001b[39mrelease()\n",
      "File \u001b[0;32m~/miniconda3/envs/nnets/lib/python3.10/site-packages/tensorflow/python/eager/polymorphic_function/tracing_compilation.py:139\u001b[0m, in \u001b[0;36mcall_function\u001b[0;34m(args, kwargs, tracing_options)\u001b[0m\n\u001b[1;32m    137\u001b[0m bound_args \u001b[39m=\u001b[39m function\u001b[39m.\u001b[39mfunction_type\u001b[39m.\u001b[39mbind(\u001b[39m*\u001b[39margs, \u001b[39m*\u001b[39m\u001b[39m*\u001b[39mkwargs)\n\u001b[1;32m    138\u001b[0m flat_inputs \u001b[39m=\u001b[39m function\u001b[39m.\u001b[39mfunction_type\u001b[39m.\u001b[39munpack_inputs(bound_args)\n\u001b[0;32m--> 139\u001b[0m \u001b[39mreturn\u001b[39;00m function\u001b[39m.\u001b[39;49m_call_flat(  \u001b[39m# pylint: disable=protected-access\u001b[39;49;00m\n\u001b[1;32m    140\u001b[0m     flat_inputs, captured_inputs\u001b[39m=\u001b[39;49mfunction\u001b[39m.\u001b[39;49mcaptured_inputs\n\u001b[1;32m    141\u001b[0m )\n",
      "File \u001b[0;32m~/miniconda3/envs/nnets/lib/python3.10/site-packages/tensorflow/python/eager/polymorphic_function/concrete_function.py:1264\u001b[0m, in \u001b[0;36mConcreteFunction._call_flat\u001b[0;34m(self, tensor_inputs, captured_inputs)\u001b[0m\n\u001b[1;32m   1260\u001b[0m possible_gradient_type \u001b[39m=\u001b[39m gradients_util\u001b[39m.\u001b[39mPossibleTapeGradientTypes(args)\n\u001b[1;32m   1261\u001b[0m \u001b[39mif\u001b[39;00m (possible_gradient_type \u001b[39m==\u001b[39m gradients_util\u001b[39m.\u001b[39mPOSSIBLE_GRADIENT_TYPES_NONE\n\u001b[1;32m   1262\u001b[0m     \u001b[39mand\u001b[39;00m executing_eagerly):\n\u001b[1;32m   1263\u001b[0m   \u001b[39m# No tape is watching; skip to running the function.\u001b[39;00m\n\u001b[0;32m-> 1264\u001b[0m   \u001b[39mreturn\u001b[39;00m \u001b[39mself\u001b[39;49m\u001b[39m.\u001b[39;49m_inference_function\u001b[39m.\u001b[39;49mflat_call(args)\n\u001b[1;32m   1265\u001b[0m forward_backward \u001b[39m=\u001b[39m \u001b[39mself\u001b[39m\u001b[39m.\u001b[39m_select_forward_and_backward_functions(\n\u001b[1;32m   1266\u001b[0m     args,\n\u001b[1;32m   1267\u001b[0m     possible_gradient_type,\n\u001b[1;32m   1268\u001b[0m     executing_eagerly)\n\u001b[1;32m   1269\u001b[0m forward_function, args_with_tangents \u001b[39m=\u001b[39m forward_backward\u001b[39m.\u001b[39mforward()\n",
      "File \u001b[0;32m~/miniconda3/envs/nnets/lib/python3.10/site-packages/tensorflow/python/eager/polymorphic_function/atomic_function.py:217\u001b[0m, in \u001b[0;36mAtomicFunction.flat_call\u001b[0;34m(self, args)\u001b[0m\n\u001b[1;32m    215\u001b[0m \u001b[39mdef\u001b[39;00m \u001b[39mflat_call\u001b[39m(\u001b[39mself\u001b[39m, args: Sequence[core\u001b[39m.\u001b[39mTensor]) \u001b[39m-\u001b[39m\u001b[39m>\u001b[39m Any:\n\u001b[1;32m    216\u001b[0m \u001b[39m  \u001b[39m\u001b[39m\"\"\"Calls with tensor inputs and returns the structured output.\"\"\"\u001b[39;00m\n\u001b[0;32m--> 217\u001b[0m   flat_outputs \u001b[39m=\u001b[39m \u001b[39mself\u001b[39;49m(\u001b[39m*\u001b[39;49margs)\n\u001b[1;32m    218\u001b[0m   \u001b[39mreturn\u001b[39;00m \u001b[39mself\u001b[39m\u001b[39m.\u001b[39mfunction_type\u001b[39m.\u001b[39mpack_output(flat_outputs)\n",
      "File \u001b[0;32m~/miniconda3/envs/nnets/lib/python3.10/site-packages/tensorflow/python/eager/polymorphic_function/atomic_function.py:252\u001b[0m, in \u001b[0;36mAtomicFunction.__call__\u001b[0;34m(self, *args)\u001b[0m\n\u001b[1;32m    250\u001b[0m \u001b[39mwith\u001b[39;00m record\u001b[39m.\u001b[39mstop_recording():\n\u001b[1;32m    251\u001b[0m   \u001b[39mif\u001b[39;00m \u001b[39mself\u001b[39m\u001b[39m.\u001b[39m_bound_context\u001b[39m.\u001b[39mexecuting_eagerly():\n\u001b[0;32m--> 252\u001b[0m     outputs \u001b[39m=\u001b[39m \u001b[39mself\u001b[39;49m\u001b[39m.\u001b[39;49m_bound_context\u001b[39m.\u001b[39;49mcall_function(\n\u001b[1;32m    253\u001b[0m         \u001b[39mself\u001b[39;49m\u001b[39m.\u001b[39;49mname,\n\u001b[1;32m    254\u001b[0m         \u001b[39mlist\u001b[39;49m(args),\n\u001b[1;32m    255\u001b[0m         \u001b[39mlen\u001b[39;49m(\u001b[39mself\u001b[39;49m\u001b[39m.\u001b[39;49mfunction_type\u001b[39m.\u001b[39;49mflat_outputs),\n\u001b[1;32m    256\u001b[0m     )\n\u001b[1;32m    257\u001b[0m   \u001b[39melse\u001b[39;00m:\n\u001b[1;32m    258\u001b[0m     outputs \u001b[39m=\u001b[39m make_call_op_in_graph(\n\u001b[1;32m    259\u001b[0m         \u001b[39mself\u001b[39m,\n\u001b[1;32m    260\u001b[0m         \u001b[39mlist\u001b[39m(args),\n\u001b[1;32m    261\u001b[0m         \u001b[39mself\u001b[39m\u001b[39m.\u001b[39m_bound_context\u001b[39m.\u001b[39mfunction_call_options\u001b[39m.\u001b[39mas_attrs(),\n\u001b[1;32m    262\u001b[0m     )\n",
      "File \u001b[0;32m~/miniconda3/envs/nnets/lib/python3.10/site-packages/tensorflow/python/eager/context.py:1479\u001b[0m, in \u001b[0;36mContext.call_function\u001b[0;34m(self, name, tensor_inputs, num_outputs)\u001b[0m\n\u001b[1;32m   1477\u001b[0m cancellation_context \u001b[39m=\u001b[39m cancellation\u001b[39m.\u001b[39mcontext()\n\u001b[1;32m   1478\u001b[0m \u001b[39mif\u001b[39;00m cancellation_context \u001b[39mis\u001b[39;00m \u001b[39mNone\u001b[39;00m:\n\u001b[0;32m-> 1479\u001b[0m   outputs \u001b[39m=\u001b[39m execute\u001b[39m.\u001b[39;49mexecute(\n\u001b[1;32m   1480\u001b[0m       name\u001b[39m.\u001b[39;49mdecode(\u001b[39m\"\u001b[39;49m\u001b[39mutf-8\u001b[39;49m\u001b[39m\"\u001b[39;49m),\n\u001b[1;32m   1481\u001b[0m       num_outputs\u001b[39m=\u001b[39;49mnum_outputs,\n\u001b[1;32m   1482\u001b[0m       inputs\u001b[39m=\u001b[39;49mtensor_inputs,\n\u001b[1;32m   1483\u001b[0m       attrs\u001b[39m=\u001b[39;49mattrs,\n\u001b[1;32m   1484\u001b[0m       ctx\u001b[39m=\u001b[39;49m\u001b[39mself\u001b[39;49m,\n\u001b[1;32m   1485\u001b[0m   )\n\u001b[1;32m   1486\u001b[0m \u001b[39melse\u001b[39;00m:\n\u001b[1;32m   1487\u001b[0m   outputs \u001b[39m=\u001b[39m execute\u001b[39m.\u001b[39mexecute_with_cancellation(\n\u001b[1;32m   1488\u001b[0m       name\u001b[39m.\u001b[39mdecode(\u001b[39m\"\u001b[39m\u001b[39mutf-8\u001b[39m\u001b[39m\"\u001b[39m),\n\u001b[1;32m   1489\u001b[0m       num_outputs\u001b[39m=\u001b[39mnum_outputs,\n\u001b[0;32m   (...)\u001b[0m\n\u001b[1;32m   1493\u001b[0m       cancellation_manager\u001b[39m=\u001b[39mcancellation_context,\n\u001b[1;32m   1494\u001b[0m   )\n",
      "File \u001b[0;32m~/miniconda3/envs/nnets/lib/python3.10/site-packages/tensorflow/python/eager/execute.py:60\u001b[0m, in \u001b[0;36mquick_execute\u001b[0;34m(op_name, num_outputs, inputs, attrs, ctx, name)\u001b[0m\n\u001b[1;32m     53\u001b[0m   \u001b[39m# Convert any objects of type core_types.Tensor to Tensor.\u001b[39;00m\n\u001b[1;32m     54\u001b[0m   inputs \u001b[39m=\u001b[39m [\n\u001b[1;32m     55\u001b[0m       tensor_conversion_registry\u001b[39m.\u001b[39mconvert(t)\n\u001b[1;32m     56\u001b[0m       \u001b[39mif\u001b[39;00m \u001b[39misinstance\u001b[39m(t, core_types\u001b[39m.\u001b[39mTensor)\n\u001b[1;32m     57\u001b[0m       \u001b[39melse\u001b[39;00m t\n\u001b[1;32m     58\u001b[0m       \u001b[39mfor\u001b[39;00m t \u001b[39min\u001b[39;00m inputs\n\u001b[1;32m     59\u001b[0m   ]\n\u001b[0;32m---> 60\u001b[0m   tensors \u001b[39m=\u001b[39m pywrap_tfe\u001b[39m.\u001b[39;49mTFE_Py_Execute(ctx\u001b[39m.\u001b[39;49m_handle, device_name, op_name,\n\u001b[1;32m     61\u001b[0m                                       inputs, attrs, num_outputs)\n\u001b[1;32m     62\u001b[0m \u001b[39mexcept\u001b[39;00m core\u001b[39m.\u001b[39m_NotOkStatusException \u001b[39mas\u001b[39;00m e:\n\u001b[1;32m     63\u001b[0m   \u001b[39mif\u001b[39;00m name \u001b[39mis\u001b[39;00m \u001b[39mnot\u001b[39;00m \u001b[39mNone\u001b[39;00m:\n",
      "\u001b[0;31mKeyboardInterrupt\u001b[0m: "
     ]
    }
   ],
   "source": [
    "for d in [.5, .6, .7]:\n",
    "    desc = f\"dropout_{d}_multi_True\"\n",
    "    run_model(\n",
    "        embed_out=128,\n",
    "        gru_units=64,\n",
    "        relu_units=128,\n",
    "        deep_rnn=True,\n",
    "        dropout_rate=d,\n",
    "        multi_dropout=True,\n",
    "        relu_layer=False,\n",
    "        epochs=10,\n",
    "        checkpoint=True,\n",
    "        desc=desc)"
   ]
  },
  {
   "cell_type": "markdown",
   "metadata": {},
   "source": [
    "### Predict"
   ]
  },
  {
   "cell_type": "code",
   "execution_count": null,
   "metadata": {},
   "outputs": [],
   "source": [
    "# load the saved model\n",
    "model_dir = \"e_128_g_256_r_32\"\n",
    "model_path = f\"checkpoints/{model_dir}\"\n",
    "model = tf.keras.models.load_model(model_path)\n",
    "df = pd.read_csv(dev_path)\n",
    "\n",
    "# generate predictions from model (on the tf version of validation data)\n",
    "predictions = numpy.where(model.predict(dev_dataset) > 0.5, 1, 0)\n",
    "\n",
    "# assign predictions to label columns in Pandas data frame\n",
    "df.iloc[:, 1:] = predictions\n",
    "print(df.head())\n",
    "\n",
    "# write the Pandas dataframe to a zipped CSV file\n",
    "df.to_csv(\"submission.zip\", index=False, compression=dict(\n",
    "    method='zip', archive_name=f'submission.csv'))\n",
    "\n"
   ]
  }
 ],
 "metadata": {
  "kernelspec": {
   "display_name": "nnets",
   "language": "python",
   "name": "python3"
  },
  "language_info": {
   "codemirror_mode": {
    "name": "ipython",
    "version": 3
   },
   "file_extension": ".py",
   "mimetype": "text/x-python",
   "name": "python",
   "nbconvert_exporter": "python",
   "pygments_lexer": "ipython3",
   "version": "3.10.13"
  }
 },
 "nbformat": 4,
 "nbformat_minor": 2
}
