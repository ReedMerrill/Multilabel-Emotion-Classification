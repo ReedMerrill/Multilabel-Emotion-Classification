{
 "cells": [
  {
   "cell_type": "code",
   "execution_count": 16,
   "metadata": {},
   "outputs": [],
   "source": [
    "import time\n",
    "import datasets\n",
    "import pandas as pd\n",
    "import transformers\n",
    "import tensorflow as tf\n",
    "from keras import layers\n",
    "from tensorflow.keras.callbacks import TensorBoard, ModelCheckpoint, EarlyStopping\n",
    "import numpy\n",
    "\n",
    "train_path=\"data/train.csv\"\n",
    "dev_path=\"data/dev.csv\""
   ]
  },
  {
   "cell_type": "markdown",
   "metadata": {},
   "source": [
    "### Pre-processing"
   ]
  },
  {
   "cell_type": "code",
   "execution_count": 17,
   "metadata": {},
   "outputs": [
    {
     "name": "stderr",
     "output_type": "stream",
     "text": [
      "Found cached dataset csv (/home/reed/.cache/huggingface/datasets/csv/default-0989c6c4d599a70a/0.0.0/6954658bab30a358235fa864b05cf819af0e179325c740e4bc853bcc7ec513e1)\n"
     ]
    },
    {
     "data": {
      "application/vnd.jupyter.widget-view+json": {
       "model_id": "3985d64d092543c0861332c2b797a894",
       "version_major": 2,
       "version_minor": 0
      },
      "text/plain": [
       "  0%|          | 0/2 [00:00<?, ?it/s]"
      ]
     },
     "metadata": {},
     "output_type": "display_data"
    },
    {
     "name": "stderr",
     "output_type": "stream",
     "text": [
      "Loading cached processed dataset at /home/reed/.cache/huggingface/datasets/csv/default-0989c6c4d599a70a/0.0.0/6954658bab30a358235fa864b05cf819af0e179325c740e4bc853bcc7ec513e1/cache-4172f109611e29af.arrow\n",
      "Loading cached processed dataset at /home/reed/.cache/huggingface/datasets/csv/default-0989c6c4d599a70a/0.0.0/6954658bab30a358235fa864b05cf819af0e179325c740e4bc853bcc7ec513e1/cache-4f568e17022e9997.arrow\n",
      "Loading cached processed dataset at /home/reed/.cache/huggingface/datasets/csv/default-0989c6c4d599a70a/0.0.0/6954658bab30a358235fa864b05cf819af0e179325c740e4bc853bcc7ec513e1/cache-cdee06b4baee8bb9.arrow\n",
      "Loading cached processed dataset at /home/reed/.cache/huggingface/datasets/csv/default-0989c6c4d599a70a/0.0.0/6954658bab30a358235fa864b05cf819af0e179325c740e4bc853bcc7ec513e1/cache-fe796d7e8ab97072.arrow\n"
     ]
    }
   ],
   "source": [
    "# use the tokenizer from DistilRoBERTa\n",
    "tokenizer = transformers.AutoTokenizer.from_pretrained(\"distilroberta-base\", pad_token_id=0)\n",
    "\n",
    "def tokenize(examples):\n",
    "    \"\"\"Converts the text of each example to \"input_ids\", a sequence of integers\n",
    "    representing 1-hot vectors for each token in the text\"\"\"\n",
    "    return tokenizer(examples[\"text\"], truncation=True, max_length=64,\n",
    "                     padding=\"max_length\")\n",
    "\n",
    "# load the CSVs into Huggingface datasets to allow use of the tokenizer\n",
    "hf_dataset = datasets.load_dataset(\"csv\", data_files={\n",
    "    \"train\": train_path, \"validation\": dev_path})\n",
    "\n",
    "# the labels are the names of all columns except the first\n",
    "labels = hf_dataset[\"train\"].column_names[1:]\n",
    "\n",
    "def gather_labels(example):\n",
    "    \"\"\"Converts the label columns into a list of 0s and 1s\"\"\"\n",
    "    # the float here is because converting hf to tf data requires a list or array of labels\n",
    "    return {\"labels\": [float(example[l]) for l in labels]}\n",
    "\n",
    "# convert text and labels to format expected by model\n",
    "hf_dataset = hf_dataset.map(gather_labels)\n",
    "hf_dataset = hf_dataset.map(tokenize, batched=True)"
   ]
  },
  {
   "cell_type": "markdown",
   "metadata": {},
   "source": [
    "### Convert to TF format"
   ]
  },
  {
   "cell_type": "code",
   "execution_count": 18,
   "metadata": {},
   "outputs": [],
   "source": [
    "# split train and val into their own objects\n",
    "hf_train = hf_dataset['train']\n",
    "hf_dev = hf_dataset['validation']\n",
    "\n",
    "# rename column for embeddings layer\n",
    "hf_train = hf_train.rename_column(\"input_ids\", \"embedding_inputs\")\n",
    "hf_dev = hf_dev.rename_column(\"input_ids\", \"embedding_inputs\")\n",
    "\n",
    "# convert Huggingface datasets to Tensorflow datasets\n",
    "train_dataset = hf_train.to_tf_dataset(\n",
    "    columns=\"embedding_inputs\",\n",
    "    label_cols=\"labels\",\n",
    "    batch_size=32,\n",
    "    shuffle=True)\n",
    "dev_dataset = hf_dev.to_tf_dataset(\n",
    "    columns=\"embedding_inputs\",\n",
    "    label_cols=\"labels\",\n",
    "    batch_size=32)"
   ]
  },
  {
   "cell_type": "markdown",
   "metadata": {},
   "source": [
    "### Model"
   ]
  },
  {
   "cell_type": "code",
   "execution_count": 20,
   "metadata": {},
   "outputs": [
    {
     "name": "stdout",
     "output_type": "stream",
     "text": [
      "weights-and-masks_time_1701720492.9127078\n",
      "Epoch 1/50\n",
      "788/788 [==============================] - ETA: 0s - loss: 0.1793 - f1_score: 0.3755"
     ]
    }
   ],
   "source": [
    "# define grid search parameters and loop\n",
    "\n",
    "# define a model with a single fully connected layer\n",
    "model = tf.keras.Sequential()\n",
    "model.add(layers.Embedding(\n",
    "    input_dim=tokenizer.vocab_size,\n",
    "    output_dim=16,\n",
    "    mask_zero=True))\n",
    "model.add(layers.Bidirectional(layers.GRU(64)))\n",
    "# final processing with a dense RELU layer\n",
    "model.add(layers.Dense(64, activation='relu'))\n",
    "model.add(layers.Dense(\n",
    "    units=len(labels),\n",
    "    activation='sigmoid'))\n",
    "\n",
    "# specify compilation hyperparameters\n",
    "model.compile(\n",
    "    optimizer=tf.keras.optimizers.Adam(0.001),\n",
    "    loss=tf.keras.losses.binary_crossentropy,\n",
    "    metrics=[tf.keras.metrics.F1Score(average=\"micro\", threshold=0.5)])\n",
    "\n",
    "# set time for run time and model naming\n",
    "start_time = time.time()\n",
    "desc = \"weights-and-masks\"\n",
    "model_name = f\"{desc}_time_{start_time}\"\n",
    "\n",
    "# fit the model to the training data, monitoring F1 on the dev data\n",
    "print(model_name)\n",
    "model.fit(\n",
    "    train_dataset,\n",
    "    epochs=50,\n",
    "    validation_data=dev_dataset,\n",
    "    callbacks=[\n",
    "        ModelCheckpoint(\n",
    "            filepath=f\"checkpoints/{model_name}\",\n",
    "            monitor=\"val_f1_score\",\n",
    "            mode=\"max\",\n",
    "            save_best_only=True),\n",
    "        TensorBoard(\n",
    "            log_dir=f\"logs/{model_name}\"),\n",
    "        EarlyStopping(\n",
    "            monitor=\"val_f1_score\",\n",
    "            min_delta=0.25,\n",
    "            patience=5,\n",
    "            start_from_epoch=2)\n",
    "        ])\n",
    "\n",
    "time_elapsed = (time.time() - start_time) / 60\n",
    "print(f\"Time Elapsed: {time_elapsed} min.\")"
   ]
  },
  {
   "cell_type": "markdown",
   "metadata": {},
   "source": [
    "### Predict"
   ]
  },
  {
   "cell_type": "code",
   "execution_count": null,
   "metadata": {},
   "outputs": [],
   "source": [
    "# load the saved model\n",
    "model_path=\"checkpoints/batch-size_32_time_1701555125.2780304\"\n",
    "model = tf.keras.models.load_model(model_path)\n",
    "df = pd.read_csv(dev_path)\n",
    "\n",
    "# generate predictions from model (on the tf version of validation data)\n",
    "predictions = numpy.where(model.predict(dev_dataset) > 0.5, 1, 0)\n",
    "\n",
    "# assign predictions to label columns in Pandas data frame\n",
    "df.iloc[:, 1:] = predictions\n",
    "print(df.head())\n",
    "\n",
    "# write the Pandas dataframe to a zipped CSV file\n",
    "df.to_csv(\"submission.zip\", index=False, compression=dict(\n",
    "    method='zip', archive_name=f'submission.csv'))\n",
    "\n"
   ]
  }
 ],
 "metadata": {
  "kernelspec": {
   "display_name": "nnets",
   "language": "python",
   "name": "python3"
  },
  "language_info": {
   "codemirror_mode": {
    "name": "ipython",
    "version": 3
   },
   "file_extension": ".py",
   "mimetype": "text/x-python",
   "name": "python",
   "nbconvert_exporter": "python",
   "pygments_lexer": "ipython3",
   "version": "3.10.13"
  }
 },
 "nbformat": 4,
 "nbformat_minor": 2
}
