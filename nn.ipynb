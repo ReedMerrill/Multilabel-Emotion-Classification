{
 "cells": [
  {
   "cell_type": "code",
   "execution_count": 11,
   "metadata": {},
   "outputs": [],
   "source": [
    "import time\n",
    "import datasets\n",
    "import pandas\n",
    "import transformers\n",
    "import tensorflow as tf\n",
    "import keras\n",
    "from keras import layers\n",
    "from tensorflow.keras.callbacks import TensorBoard, ModelCheckpoint, EarlyStopping\n",
    "import numpy\n",
    "\n",
    "train_path=\"data/train.csv\"\n",
    "dev_path=\"data/dev.csv\""
   ]
  },
  {
   "cell_type": "markdown",
   "metadata": {},
   "source": [
    "### Pre-processing"
   ]
  },
  {
   "cell_type": "code",
   "execution_count": 12,
   "metadata": {},
   "outputs": [
    {
     "name": "stderr",
     "output_type": "stream",
     "text": [
      "WARNING:datasets.builder:Found cached dataset csv (/home/reed/.cache/huggingface/datasets/csv/default-5588e97faab3ecf2/0.0.0/6954658bab30a358235fa864b05cf819af0e179325c740e4bc853bcc7ec513e1)\n"
     ]
    },
    {
     "data": {
      "application/vnd.jupyter.widget-view+json": {
       "model_id": "a5909c0ed4c5458680a5d0d6fdf7b819",
       "version_major": 2,
       "version_minor": 0
      },
      "text/plain": [
       "  0%|          | 0/2 [00:00<?, ?it/s]"
      ]
     },
     "metadata": {},
     "output_type": "display_data"
    },
    {
     "name": "stderr",
     "output_type": "stream",
     "text": [
      "WARNING:datasets.arrow_dataset:Loading cached processed dataset at /home/reed/.cache/huggingface/datasets/csv/default-5588e97faab3ecf2/0.0.0/6954658bab30a358235fa864b05cf819af0e179325c740e4bc853bcc7ec513e1/cache-3b859b84b4679ea0.arrow\n",
      "WARNING:datasets.arrow_dataset:Loading cached processed dataset at /home/reed/.cache/huggingface/datasets/csv/default-5588e97faab3ecf2/0.0.0/6954658bab30a358235fa864b05cf819af0e179325c740e4bc853bcc7ec513e1/cache-a24d70b3cafa8ce5.arrow\n",
      "WARNING:datasets.arrow_dataset:Loading cached processed dataset at /home/reed/.cache/huggingface/datasets/csv/default-5588e97faab3ecf2/0.0.0/6954658bab30a358235fa864b05cf819af0e179325c740e4bc853bcc7ec513e1/cache-90422accd275d014.arrow\n",
      "WARNING:datasets.arrow_dataset:Loading cached processed dataset at /home/reed/.cache/huggingface/datasets/csv/default-5588e97faab3ecf2/0.0.0/6954658bab30a358235fa864b05cf819af0e179325c740e4bc853bcc7ec513e1/cache-b9bfd8320b729e84.arrow\n"
     ]
    }
   ],
   "source": [
    "# use the tokenizer from DistilRoBERTa\n",
    "tokenizer = transformers.AutoTokenizer.from_pretrained(\"distilroberta-base\")\n",
    "\n",
    "def tokenize(examples):\n",
    "    \"\"\"Converts the text of each example to \"input_ids\", a sequence of integers\n",
    "    representing 1-hot vectors for each token in the text\"\"\"\n",
    "    return tokenizer(examples[\"text\"], truncation=True, max_length=64,\n",
    "                     padding=\"max_length\")\n",
    "\n",
    "# load the CSVs into Huggingface datasets to allow use of the tokenizer\n",
    "hf_dataset = datasets.load_dataset(\"csv\", data_files={\n",
    "    \"train\": train_path, \"validation\": dev_path})\n",
    "\n",
    "# the labels are the names of all columns except the first\n",
    "labels = hf_dataset[\"train\"].column_names[1:]\n",
    "\n",
    "def gather_labels(example):\n",
    "    \"\"\"Converts the label columns into a list of 0s and 1s\"\"\"\n",
    "    # the float here is because converting hf to tf data requires a list or array of labels\n",
    "    return {\"labels\": [float(example[l]) for l in labels]}\n",
    "\n",
    "# convert text and labels to format expected by model\n",
    "hf_dataset = hf_dataset.map(gather_labels)\n",
    "hf_dataset = hf_dataset.map(tokenize, batched=True)"
   ]
  },
  {
   "cell_type": "markdown",
   "metadata": {},
   "source": [
    "### Convert to TF format"
   ]
  },
  {
   "cell_type": "code",
   "execution_count": 13,
   "metadata": {},
   "outputs": [],
   "source": [
    "# split train and val into their own objects\n",
    "hf_train = hf_dataset['train']\n",
    "hf_dev = hf_dataset['validation']\n",
    "\n",
    "# rename column for embeddings layer\n",
    "hf_train = hf_train.rename_column(\"input_ids\", \"embedding_inputs\")\n",
    "hf_dev = hf_dev.rename_column(\"input_ids\", \"embedding_inputs\")"
   ]
  },
  {
   "cell_type": "markdown",
   "metadata": {},
   "source": [
    "### Model"
   ]
  },
  {
   "cell_type": "code",
   "execution_count": 23,
   "metadata": {},
   "outputs": [
    {
     "name": "stdout",
     "output_type": "stream",
     "text": [
      "Epoch 1/20\n",
      "99/99 [==============================] - ETA: 0s - loss: 0.3213 - f1_score: 0.0191INFO:tensorflow:Assets written to: checkpoints/batch-size_256_time_1701558399.5076332/assets\n"
     ]
    },
    {
     "name": "stderr",
     "output_type": "stream",
     "text": [
      "INFO:tensorflow:Assets written to: checkpoints/batch-size_256_time_1701558399.5076332/assets\n"
     ]
    },
    {
     "name": "stdout",
     "output_type": "stream",
     "text": [
      "99/99 [==============================] - 32s 250ms/step - loss: 0.3213 - f1_score: 0.0191 - val_loss: 0.2179 - val_f1_score: 0.0000e+00\n",
      "Epoch 2/20\n",
      "99/99 [==============================] - ETA: 0s - loss: 0.2025 - f1_score: 0.0905INFO:tensorflow:Assets written to: checkpoints/batch-size_256_time_1701558399.5076332/assets\n"
     ]
    },
    {
     "name": "stderr",
     "output_type": "stream",
     "text": [
      "INFO:tensorflow:Assets written to: checkpoints/batch-size_256_time_1701558399.5076332/assets\n"
     ]
    },
    {
     "name": "stdout",
     "output_type": "stream",
     "text": [
      "99/99 [==============================] - 23s 237ms/step - loss: 0.2025 - f1_score: 0.0905 - val_loss: 0.1848 - val_f1_score: 0.2464\n",
      "Epoch 3/20\n",
      "99/99 [==============================] - ETA: 0s - loss: 0.1595 - f1_score: 0.3385INFO:tensorflow:Assets written to: checkpoints/batch-size_256_time_1701558399.5076332/assets\n"
     ]
    },
    {
     "name": "stderr",
     "output_type": "stream",
     "text": [
      "INFO:tensorflow:Assets written to: checkpoints/batch-size_256_time_1701558399.5076332/assets\n"
     ]
    },
    {
     "name": "stdout",
     "output_type": "stream",
     "text": [
      "99/99 [==============================] - 23s 238ms/step - loss: 0.1595 - f1_score: 0.3385 - val_loss: 0.1474 - val_f1_score: 0.4305\n",
      "Epoch 4/20\n",
      "99/99 [==============================] - ETA: 0s - loss: 0.1276 - f1_score: 0.5730INFO:tensorflow:Assets written to: checkpoints/batch-size_256_time_1701558399.5076332/assets\n"
     ]
    },
    {
     "name": "stderr",
     "output_type": "stream",
     "text": [
      "INFO:tensorflow:Assets written to: checkpoints/batch-size_256_time_1701558399.5076332/assets\n"
     ]
    },
    {
     "name": "stdout",
     "output_type": "stream",
     "text": [
      "99/99 [==============================] - 23s 236ms/step - loss: 0.1276 - f1_score: 0.5730 - val_loss: 0.1267 - val_f1_score: 0.6319\n",
      "Epoch 5/20\n",
      "99/99 [==============================] - ETA: 0s - loss: 0.1035 - f1_score: 0.6968INFO:tensorflow:Assets written to: checkpoints/batch-size_256_time_1701558399.5076332/assets\n"
     ]
    },
    {
     "name": "stderr",
     "output_type": "stream",
     "text": [
      "INFO:tensorflow:Assets written to: checkpoints/batch-size_256_time_1701558399.5076332/assets\n"
     ]
    },
    {
     "name": "stdout",
     "output_type": "stream",
     "text": [
      "99/99 [==============================] - 24s 243ms/step - loss: 0.1035 - f1_score: 0.6968 - val_loss: 0.1172 - val_f1_score: 0.6808\n",
      "Epoch 6/20\n",
      "99/99 [==============================] - ETA: 0s - loss: 0.0855 - f1_score: 0.7507INFO:tensorflow:Assets written to: checkpoints/batch-size_256_time_1701558399.5076332/assets\n"
     ]
    },
    {
     "name": "stderr",
     "output_type": "stream",
     "text": [
      "INFO:tensorflow:Assets written to: checkpoints/batch-size_256_time_1701558399.5076332/assets\n"
     ]
    },
    {
     "name": "stdout",
     "output_type": "stream",
     "text": [
      "99/99 [==============================] - 23s 233ms/step - loss: 0.0855 - f1_score: 0.7507 - val_loss: 0.1115 - val_f1_score: 0.7118\n",
      "Epoch 7/20\n",
      "99/99 [==============================] - ETA: 0s - loss: 0.0664 - f1_score: 0.8302INFO:tensorflow:Assets written to: checkpoints/batch-size_256_time_1701558399.5076332/assets\n"
     ]
    },
    {
     "name": "stderr",
     "output_type": "stream",
     "text": [
      "INFO:tensorflow:Assets written to: checkpoints/batch-size_256_time_1701558399.5076332/assets\n"
     ]
    },
    {
     "name": "stdout",
     "output_type": "stream",
     "text": [
      "99/99 [==============================] - 24s 239ms/step - loss: 0.0664 - f1_score: 0.8302 - val_loss: 0.1037 - val_f1_score: 0.7628\n",
      "Epoch 8/20\n",
      "99/99 [==============================] - 11s 109ms/step - loss: 0.0539 - f1_score: 0.8731 - val_loss: 0.1086 - val_f1_score: 0.7625\n",
      "Epoch 9/20\n",
      "99/99 [==============================] - ETA: 0s - loss: 0.0457 - f1_score: 0.8945INFO:tensorflow:Assets written to: checkpoints/batch-size_256_time_1701558399.5076332/assets\n"
     ]
    },
    {
     "name": "stderr",
     "output_type": "stream",
     "text": [
      "INFO:tensorflow:Assets written to: checkpoints/batch-size_256_time_1701558399.5076332/assets\n"
     ]
    },
    {
     "name": "stdout",
     "output_type": "stream",
     "text": [
      "99/99 [==============================] - 23s 236ms/step - loss: 0.0457 - f1_score: 0.8945 - val_loss: 0.1062 - val_f1_score: 0.7703\n",
      "Epoch 10/20\n",
      "99/99 [==============================] - 11s 112ms/step - loss: 0.0405 - f1_score: 0.9073 - val_loss: 0.1155 - val_f1_score: 0.7669\n",
      "Epoch 11/20\n",
      "99/99 [==============================] - 11s 109ms/step - loss: 0.0367 - f1_score: 0.9179 - val_loss: 0.1201 - val_f1_score: 0.7652\n",
      "Epoch 12/20\n",
      "99/99 [==============================] - 11s 110ms/step - loss: 0.0326 - f1_score: 0.9297 - val_loss: 0.1283 - val_f1_score: 0.7612\n",
      "Epoch 13/20\n",
      "99/99 [==============================] - 11s 109ms/step - loss: 0.0309 - f1_score: 0.9305 - val_loss: 0.1338 - val_f1_score: 0.7609\n",
      "Epoch 14/20\n",
      "99/99 [==============================] - 11s 108ms/step - loss: 0.0283 - f1_score: 0.9374 - val_loss: 0.1409 - val_f1_score: 0.7589\n",
      "Epoch 15/20\n",
      "99/99 [==============================] - 11s 112ms/step - loss: 0.0259 - f1_score: 0.9433 - val_loss: 0.1498 - val_f1_score: 0.7482\n",
      "Epoch 16/20\n",
      "99/99 [==============================] - 12s 123ms/step - loss: 0.0244 - f1_score: 0.9470 - val_loss: 0.1633 - val_f1_score: 0.7427\n",
      "Epoch 17/20\n",
      "99/99 [==============================] - 10s 101ms/step - loss: 0.0229 - f1_score: 0.9503 - val_loss: 0.1514 - val_f1_score: 0.7522\n",
      "Epoch 18/20\n",
      "99/99 [==============================] - 10s 103ms/step - loss: 0.0209 - f1_score: 0.9537 - val_loss: 0.1656 - val_f1_score: 0.7415\n",
      "Epoch 19/20\n",
      "99/99 [==============================] - 10s 103ms/step - loss: 0.0189 - f1_score: 0.9597 - val_loss: 0.1835 - val_f1_score: 0.7405\n",
      "Epoch 20/20\n",
      "99/99 [==============================] - 10s 105ms/step - loss: 0.0178 - f1_score: 0.9596 - val_loss: 0.1790 - val_f1_score: 0.7401\n",
      "Time Elapsed: 6.189360284805298 min.\n"
     ]
    }
   ],
   "source": [
    "# define grid search parameters and loop\n",
    "\n",
    "for b in batch_size:\n",
    "        \n",
    "    # convert Huggingface datasets to Tensorflow datasets\n",
    "    train_dataset = hf_train.to_tf_dataset(\n",
    "        columns=\"embedding_inputs\",\n",
    "        label_cols=\"labels\",\n",
    "        batch_size=32,\n",
    "        shuffle=True)\n",
    "    dev_dataset = hf_dev.to_tf_dataset(\n",
    "        columns=\"embedding_inputs\",\n",
    "        label_cols=\"labels\",\n",
    "        batch_size=32)\n",
    "\n",
    "    # define a model with a single fully connected layer\n",
    "    model = tf.keras.Sequential()\n",
    "    model.add(layers.Embedding(\n",
    "        input_dim=tokenizer.vocab_size,\n",
    "        output_dim=16,\n",
    "        mask_zero=True))\n",
    "    model.add(layers.Bidirectional(layers.GRU(64)))\n",
    "    # final processing with a dense RELU layer\n",
    "    model.add(layers.Dense(64, activation='relu'))\n",
    "    model.add(layers.Dense(\n",
    "        units=len(labels),\n",
    "        activation='sigmoid'))\n",
    "\n",
    "    # specify compilation hyperparameters\n",
    "    model.compile(\n",
    "        optimizer=tf.keras.optimizers.Adam(0.001),\n",
    "        loss=tf.keras.losses.binary_crossentropy,\n",
    "        metrics=[tf.keras.metrics.F1Score(average=\"micro\", threshold=0.5)])\n",
    "\n",
    "    # set time for run time and model naming\n",
    "    start_time = time.time()\n",
    "    desc = f\"batch-size_{b}\"\n",
    "    model_name = f\"{desc}_time_{start_time}\"\n",
    "\n",
    "    # fit the model to the training data, monitoring F1 on the dev data\n",
    "    print(model_name)\n",
    "    model.fit(\n",
    "        train_dataset,\n",
    "        epochs=20,\n",
    "        validation_data=dev_dataset,\n",
    "        callbacks=[\n",
    "            ModelCheckpoint(\n",
    "                filepath=f\"checkpoints/{model_name}\",\n",
    "                monitor=\"val_f1_score\",\n",
    "                mode=\"max\",\n",
    "                save_best_only=True),\n",
    "            TensorBoard(\n",
    "                log_dir=f\"logs/{model_name}\"),\n",
    "            EarlyStopping(\n",
    "                monitor=\"val_f1_score\",\n",
    "                min_delta=0.25,\n",
    "                patience=5,\n",
    "                start_from_epoch=2)\n",
    "            ])\n",
    "\n",
    "    time_elapsed = (time.time() - start_time) / 60\n",
    "    print(f\"Time Elapsed: {time_elapsed} min.\")"
   ]
  }
 ],
 "metadata": {
  "kernelspec": {
   "display_name": "nnets",
   "language": "python",
   "name": "python3"
  },
  "language_info": {
   "codemirror_mode": {
    "name": "ipython",
    "version": 3
   },
   "file_extension": ".py",
   "mimetype": "text/x-python",
   "name": "python",
   "nbconvert_exporter": "python",
   "pygments_lexer": "ipython3",
   "version": "3.10.13"
  }
 },
 "nbformat": 4,
 "nbformat_minor": 2
}
